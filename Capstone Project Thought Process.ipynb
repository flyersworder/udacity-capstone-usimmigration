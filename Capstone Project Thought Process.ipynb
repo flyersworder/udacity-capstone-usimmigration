{
 "cells": [
  {
   "cell_type": "markdown",
   "metadata": {
    "editable": true
   },
   "source": [
    "# Does Diversity Attract Diversity: Business Travellers to U.S. Cities\n",
    "### Data Engineering Capstone Project\n",
    "\n",
    "#### Project Summary\n",
    "\n",
    "\n",
    "The project follows the follow steps:\n",
    "* Step 1: Scope the Project and Gather Data\n",
    "* Step 2: Explore and Assess the Data\n",
    "* Step 3: Define the Data Model\n",
    "* Step 4: Run ETL to Model the Data\n",
    "* Step 5: Complete Project Write Up"
   ]
  },
  {
   "cell_type": "code",
   "execution_count": 1,
   "metadata": {
    "editable": true
   },
   "outputs": [],
   "source": [
    "# Do all imports and installs here\n",
    "import pandas as pd\n",
    "import calendar\n",
    "from pyspark.sql.functions import udf, col, isnan, when, count, stddev"
   ]
  },
  {
   "cell_type": "markdown",
   "metadata": {
    "editable": true
   },
   "source": [
    "### Step 1: Scope the Project and Gather Data\n",
    "\n",
    "#### Scope \n",
    "The United States is famous for its diversity, a melting pot or a dream that attracts people from different origins and backgrounds. We always think that diversity is beneficial, yet we don't have that many proofs from an economic perspective, particularly from a city level. This project intends to show some evidence on this regard by aggregating the business travellers to the U.S. and associate their diversity to the characteristics of the city. It thus shows us some insights on whether diversity indeed attracts diversity.\n",
    "\n",
    "#### Describe and Gather Data \n",
    "The datasets are provided by Udacity. I draw data from three sources.\n",
    "\n",
    "* **I94 Immigration Data**: This data comes from the US National Tourism and Trade Office. [This](https://travel.trade.gov/research/reports/i94/historical/2016.html) is where the data comes from. For this project, I only use the immigrants who enter the US for business purpose.\n",
    "* **U.S. City Demographic Data**: This data comes from [OpenSoft](https://public.opendatasoft.com/explore/dataset/us-cities-demographics/export/). I use it to extract the demographic information of various cities in the U.S..\n",
    "* **Airport Code Table**: This is a simple table of airport codes and corresponding cities and it comes from [here](https://datahub.io/core/airport-codes#data). It is for bridging the data from previous two sources."
   ]
  },
  {
   "cell_type": "code",
   "execution_count": 15,
   "metadata": {
    "editable": true
   },
   "outputs": [],
   "source": [
    "# Read in the data here\n",
    "df = pd.read_csv(\"immigration_data_sample.csv\")"
   ]
  },
  {
   "cell_type": "code",
   "execution_count": 18,
   "metadata": {
    "editable": true
   },
   "outputs": [
    {
     "data": {
      "text/html": [
       "<div>\n",
       "<style scoped>\n",
       "    .dataframe tbody tr th:only-of-type {\n",
       "        vertical-align: middle;\n",
       "    }\n",
       "\n",
       "    .dataframe tbody tr th {\n",
       "        vertical-align: top;\n",
       "    }\n",
       "\n",
       "    .dataframe thead th {\n",
       "        text-align: right;\n",
       "    }\n",
       "</style>\n",
       "<table border=\"1\" class=\"dataframe\">\n",
       "  <thead>\n",
       "    <tr style=\"text-align: right;\">\n",
       "      <th></th>\n",
       "      <th>Unnamed: 0</th>\n",
       "      <th>cicid</th>\n",
       "      <th>i94yr</th>\n",
       "      <th>i94mon</th>\n",
       "      <th>i94cit</th>\n",
       "      <th>i94res</th>\n",
       "      <th>i94port</th>\n",
       "      <th>arrdate</th>\n",
       "      <th>i94mode</th>\n",
       "      <th>i94addr</th>\n",
       "      <th>...</th>\n",
       "      <th>entdepu</th>\n",
       "      <th>matflag</th>\n",
       "      <th>biryear</th>\n",
       "      <th>dtaddto</th>\n",
       "      <th>gender</th>\n",
       "      <th>insnum</th>\n",
       "      <th>airline</th>\n",
       "      <th>admnum</th>\n",
       "      <th>fltno</th>\n",
       "      <th>visatype</th>\n",
       "    </tr>\n",
       "  </thead>\n",
       "  <tbody>\n",
       "    <tr>\n",
       "      <th>0</th>\n",
       "      <td>2027561</td>\n",
       "      <td>4084316.0</td>\n",
       "      <td>2016.0</td>\n",
       "      <td>4.0</td>\n",
       "      <td>209.0</td>\n",
       "      <td>209.0</td>\n",
       "      <td>HHW</td>\n",
       "      <td>20566.0</td>\n",
       "      <td>1.0</td>\n",
       "      <td>HI</td>\n",
       "      <td>...</td>\n",
       "      <td>NaN</td>\n",
       "      <td>M</td>\n",
       "      <td>1955.0</td>\n",
       "      <td>07202016</td>\n",
       "      <td>F</td>\n",
       "      <td>NaN</td>\n",
       "      <td>JL</td>\n",
       "      <td>5.658267e+10</td>\n",
       "      <td>00782</td>\n",
       "      <td>WT</td>\n",
       "    </tr>\n",
       "    <tr>\n",
       "      <th>1</th>\n",
       "      <td>2171295</td>\n",
       "      <td>4422636.0</td>\n",
       "      <td>2016.0</td>\n",
       "      <td>4.0</td>\n",
       "      <td>582.0</td>\n",
       "      <td>582.0</td>\n",
       "      <td>MCA</td>\n",
       "      <td>20567.0</td>\n",
       "      <td>1.0</td>\n",
       "      <td>TX</td>\n",
       "      <td>...</td>\n",
       "      <td>NaN</td>\n",
       "      <td>M</td>\n",
       "      <td>1990.0</td>\n",
       "      <td>10222016</td>\n",
       "      <td>M</td>\n",
       "      <td>NaN</td>\n",
       "      <td>*GA</td>\n",
       "      <td>9.436200e+10</td>\n",
       "      <td>XBLNG</td>\n",
       "      <td>B2</td>\n",
       "    </tr>\n",
       "    <tr>\n",
       "      <th>2</th>\n",
       "      <td>589494</td>\n",
       "      <td>1195600.0</td>\n",
       "      <td>2016.0</td>\n",
       "      <td>4.0</td>\n",
       "      <td>148.0</td>\n",
       "      <td>112.0</td>\n",
       "      <td>OGG</td>\n",
       "      <td>20551.0</td>\n",
       "      <td>1.0</td>\n",
       "      <td>FL</td>\n",
       "      <td>...</td>\n",
       "      <td>NaN</td>\n",
       "      <td>M</td>\n",
       "      <td>1940.0</td>\n",
       "      <td>07052016</td>\n",
       "      <td>M</td>\n",
       "      <td>NaN</td>\n",
       "      <td>LH</td>\n",
       "      <td>5.578047e+10</td>\n",
       "      <td>00464</td>\n",
       "      <td>WT</td>\n",
       "    </tr>\n",
       "    <tr>\n",
       "      <th>3</th>\n",
       "      <td>2631158</td>\n",
       "      <td>5291768.0</td>\n",
       "      <td>2016.0</td>\n",
       "      <td>4.0</td>\n",
       "      <td>297.0</td>\n",
       "      <td>297.0</td>\n",
       "      <td>LOS</td>\n",
       "      <td>20572.0</td>\n",
       "      <td>1.0</td>\n",
       "      <td>CA</td>\n",
       "      <td>...</td>\n",
       "      <td>NaN</td>\n",
       "      <td>M</td>\n",
       "      <td>1991.0</td>\n",
       "      <td>10272016</td>\n",
       "      <td>M</td>\n",
       "      <td>NaN</td>\n",
       "      <td>QR</td>\n",
       "      <td>9.478970e+10</td>\n",
       "      <td>00739</td>\n",
       "      <td>B2</td>\n",
       "    </tr>\n",
       "    <tr>\n",
       "      <th>4</th>\n",
       "      <td>3032257</td>\n",
       "      <td>985523.0</td>\n",
       "      <td>2016.0</td>\n",
       "      <td>4.0</td>\n",
       "      <td>111.0</td>\n",
       "      <td>111.0</td>\n",
       "      <td>CHM</td>\n",
       "      <td>20550.0</td>\n",
       "      <td>3.0</td>\n",
       "      <td>NY</td>\n",
       "      <td>...</td>\n",
       "      <td>NaN</td>\n",
       "      <td>M</td>\n",
       "      <td>1997.0</td>\n",
       "      <td>07042016</td>\n",
       "      <td>F</td>\n",
       "      <td>NaN</td>\n",
       "      <td>NaN</td>\n",
       "      <td>4.232257e+10</td>\n",
       "      <td>LAND</td>\n",
       "      <td>WT</td>\n",
       "    </tr>\n",
       "  </tbody>\n",
       "</table>\n",
       "<p>5 rows × 29 columns</p>\n",
       "</div>"
      ],
      "text/plain": [
       "   Unnamed: 0      cicid   i94yr  i94mon  i94cit  i94res i94port  arrdate  \\\n",
       "0     2027561  4084316.0  2016.0     4.0   209.0   209.0     HHW  20566.0   \n",
       "1     2171295  4422636.0  2016.0     4.0   582.0   582.0     MCA  20567.0   \n",
       "2      589494  1195600.0  2016.0     4.0   148.0   112.0     OGG  20551.0   \n",
       "3     2631158  5291768.0  2016.0     4.0   297.0   297.0     LOS  20572.0   \n",
       "4     3032257   985523.0  2016.0     4.0   111.0   111.0     CHM  20550.0   \n",
       "\n",
       "   i94mode i94addr    ...     entdepu  matflag  biryear   dtaddto  gender  \\\n",
       "0      1.0      HI    ...         NaN        M   1955.0  07202016       F   \n",
       "1      1.0      TX    ...         NaN        M   1990.0  10222016       M   \n",
       "2      1.0      FL    ...         NaN        M   1940.0  07052016       M   \n",
       "3      1.0      CA    ...         NaN        M   1991.0  10272016       M   \n",
       "4      3.0      NY    ...         NaN        M   1997.0  07042016       F   \n",
       "\n",
       "  insnum airline        admnum  fltno  visatype  \n",
       "0    NaN      JL  5.658267e+10  00782        WT  \n",
       "1    NaN     *GA  9.436200e+10  XBLNG        B2  \n",
       "2    NaN      LH  5.578047e+10  00464        WT  \n",
       "3    NaN      QR  9.478970e+10  00739        B2  \n",
       "4    NaN     NaN  4.232257e+10   LAND        WT  \n",
       "\n",
       "[5 rows x 29 columns]"
      ]
     },
     "execution_count": 18,
     "metadata": {},
     "output_type": "execute_result"
    }
   ],
   "source": [
    "df.head()"
   ]
  },
  {
   "cell_type": "code",
   "execution_count": 6,
   "metadata": {
    "editable": true
   },
   "outputs": [
    {
     "data": {
      "text/html": [
       "<div>\n",
       "<style scoped>\n",
       "    .dataframe tbody tr th:only-of-type {\n",
       "        vertical-align: middle;\n",
       "    }\n",
       "\n",
       "    .dataframe tbody tr th {\n",
       "        vertical-align: top;\n",
       "    }\n",
       "\n",
       "    .dataframe thead th {\n",
       "        text-align: right;\n",
       "    }\n",
       "</style>\n",
       "<table border=\"1\" class=\"dataframe\">\n",
       "  <thead>\n",
       "    <tr style=\"text-align: right;\">\n",
       "      <th></th>\n",
       "      <th>cicid</th>\n",
       "      <th>i94yr</th>\n",
       "      <th>i94mon</th>\n",
       "      <th>i94cit</th>\n",
       "      <th>i94res</th>\n",
       "      <th>i94port</th>\n",
       "      <th>arrdate</th>\n",
       "      <th>i94mode</th>\n",
       "      <th>i94addr</th>\n",
       "      <th>depdate</th>\n",
       "      <th>...</th>\n",
       "      <th>entdepu</th>\n",
       "      <th>matflag</th>\n",
       "      <th>biryear</th>\n",
       "      <th>dtaddto</th>\n",
       "      <th>gender</th>\n",
       "      <th>insnum</th>\n",
       "      <th>airline</th>\n",
       "      <th>admnum</th>\n",
       "      <th>fltno</th>\n",
       "      <th>visatype</th>\n",
       "    </tr>\n",
       "  </thead>\n",
       "  <tbody>\n",
       "    <tr>\n",
       "      <th>0</th>\n",
       "      <td>6.0</td>\n",
       "      <td>2016.0</td>\n",
       "      <td>4.0</td>\n",
       "      <td>692.0</td>\n",
       "      <td>692.0</td>\n",
       "      <td>XXX</td>\n",
       "      <td>20573.0</td>\n",
       "      <td>NaN</td>\n",
       "      <td>NaN</td>\n",
       "      <td>NaN</td>\n",
       "      <td>...</td>\n",
       "      <td>U</td>\n",
       "      <td>NaN</td>\n",
       "      <td>1979.0</td>\n",
       "      <td>10282016</td>\n",
       "      <td>NaN</td>\n",
       "      <td>NaN</td>\n",
       "      <td>NaN</td>\n",
       "      <td>1.897628e+09</td>\n",
       "      <td>NaN</td>\n",
       "      <td>B2</td>\n",
       "    </tr>\n",
       "    <tr>\n",
       "      <th>1</th>\n",
       "      <td>7.0</td>\n",
       "      <td>2016.0</td>\n",
       "      <td>4.0</td>\n",
       "      <td>254.0</td>\n",
       "      <td>276.0</td>\n",
       "      <td>ATL</td>\n",
       "      <td>20551.0</td>\n",
       "      <td>1.0</td>\n",
       "      <td>AL</td>\n",
       "      <td>NaN</td>\n",
       "      <td>...</td>\n",
       "      <td>Y</td>\n",
       "      <td>NaN</td>\n",
       "      <td>1991.0</td>\n",
       "      <td>D/S</td>\n",
       "      <td>M</td>\n",
       "      <td>NaN</td>\n",
       "      <td>NaN</td>\n",
       "      <td>3.736796e+09</td>\n",
       "      <td>00296</td>\n",
       "      <td>F1</td>\n",
       "    </tr>\n",
       "    <tr>\n",
       "      <th>2</th>\n",
       "      <td>15.0</td>\n",
       "      <td>2016.0</td>\n",
       "      <td>4.0</td>\n",
       "      <td>101.0</td>\n",
       "      <td>101.0</td>\n",
       "      <td>WAS</td>\n",
       "      <td>20545.0</td>\n",
       "      <td>1.0</td>\n",
       "      <td>MI</td>\n",
       "      <td>20691.0</td>\n",
       "      <td>...</td>\n",
       "      <td>NaN</td>\n",
       "      <td>M</td>\n",
       "      <td>1961.0</td>\n",
       "      <td>09302016</td>\n",
       "      <td>M</td>\n",
       "      <td>NaN</td>\n",
       "      <td>OS</td>\n",
       "      <td>6.666432e+08</td>\n",
       "      <td>93</td>\n",
       "      <td>B2</td>\n",
       "    </tr>\n",
       "    <tr>\n",
       "      <th>3</th>\n",
       "      <td>16.0</td>\n",
       "      <td>2016.0</td>\n",
       "      <td>4.0</td>\n",
       "      <td>101.0</td>\n",
       "      <td>101.0</td>\n",
       "      <td>NYC</td>\n",
       "      <td>20545.0</td>\n",
       "      <td>1.0</td>\n",
       "      <td>MA</td>\n",
       "      <td>20567.0</td>\n",
       "      <td>...</td>\n",
       "      <td>NaN</td>\n",
       "      <td>M</td>\n",
       "      <td>1988.0</td>\n",
       "      <td>09302016</td>\n",
       "      <td>NaN</td>\n",
       "      <td>NaN</td>\n",
       "      <td>AA</td>\n",
       "      <td>9.246846e+10</td>\n",
       "      <td>00199</td>\n",
       "      <td>B2</td>\n",
       "    </tr>\n",
       "    <tr>\n",
       "      <th>4</th>\n",
       "      <td>17.0</td>\n",
       "      <td>2016.0</td>\n",
       "      <td>4.0</td>\n",
       "      <td>101.0</td>\n",
       "      <td>101.0</td>\n",
       "      <td>NYC</td>\n",
       "      <td>20545.0</td>\n",
       "      <td>1.0</td>\n",
       "      <td>MA</td>\n",
       "      <td>20567.0</td>\n",
       "      <td>...</td>\n",
       "      <td>NaN</td>\n",
       "      <td>M</td>\n",
       "      <td>2012.0</td>\n",
       "      <td>09302016</td>\n",
       "      <td>NaN</td>\n",
       "      <td>NaN</td>\n",
       "      <td>AA</td>\n",
       "      <td>9.246846e+10</td>\n",
       "      <td>00199</td>\n",
       "      <td>B2</td>\n",
       "    </tr>\n",
       "  </tbody>\n",
       "</table>\n",
       "<p>5 rows × 28 columns</p>\n",
       "</div>"
      ],
      "text/plain": [
       "   cicid   i94yr  i94mon  i94cit  i94res i94port  arrdate  i94mode i94addr  \\\n",
       "0    6.0  2016.0     4.0   692.0   692.0     XXX  20573.0      NaN     NaN   \n",
       "1    7.0  2016.0     4.0   254.0   276.0     ATL  20551.0      1.0      AL   \n",
       "2   15.0  2016.0     4.0   101.0   101.0     WAS  20545.0      1.0      MI   \n",
       "3   16.0  2016.0     4.0   101.0   101.0     NYC  20545.0      1.0      MA   \n",
       "4   17.0  2016.0     4.0   101.0   101.0     NYC  20545.0      1.0      MA   \n",
       "\n",
       "   depdate   ...     entdepu  matflag  biryear   dtaddto gender insnum  \\\n",
       "0      NaN   ...           U      NaN   1979.0  10282016    NaN    NaN   \n",
       "1      NaN   ...           Y      NaN   1991.0       D/S      M    NaN   \n",
       "2  20691.0   ...         NaN        M   1961.0  09302016      M    NaN   \n",
       "3  20567.0   ...         NaN        M   1988.0  09302016    NaN    NaN   \n",
       "4  20567.0   ...         NaN        M   2012.0  09302016    NaN    NaN   \n",
       "\n",
       "  airline        admnum  fltno visatype  \n",
       "0     NaN  1.897628e+09    NaN       B2  \n",
       "1     NaN  3.736796e+09  00296       F1  \n",
       "2      OS  6.666432e+08     93       B2  \n",
       "3      AA  9.246846e+10  00199       B2  \n",
       "4      AA  9.246846e+10  00199       B2  \n",
       "\n",
       "[5 rows x 28 columns]"
      ]
     },
     "execution_count": 6,
     "metadata": {},
     "output_type": "execute_result"
    }
   ],
   "source": [
    "df = pd.read_sas('../../data/18-83510-I94-Data-2016/i94_apr16_sub.sas7bdat', 'sas7bdat', encoding=\"ISO-8859-1\")\n",
    "df.head()"
   ]
  },
  {
   "cell_type": "code",
   "execution_count": 2,
   "metadata": {
    "editable": true
   },
   "outputs": [],
   "source": [
    "# Create spark session to read the files\n",
    "from pyspark.sql import SparkSession\n",
    "spark = SparkSession.builder.\\\n",
    "config(\"spark.jars.packages\",\"saurfang:spark-sas7bdat:2.0.0-s_2.11\")\\\n",
    ".enableHiveSupport().getOrCreate()\n",
    "#df_spark = spark.read.format('com.github.saurfang.sas.spark').load('../../data/18-83510-I94-Data-2016/i94_apr16_sub.sas7bdat', inferLong=True)\n",
    "#df_spark.select('cicid').show()"
   ]
  },
  {
   "cell_type": "code",
   "execution_count": 32,
   "metadata": {
    "editable": true
   },
   "outputs": [
    {
     "data": {
      "text/plain": [
       "DataFrame[iata_code: string, region: string, municipality: string]"
      ]
     },
     "execution_count": 32,
     "metadata": {},
     "output_type": "execute_result"
    }
   ],
   "source": [
    "spark.read.parquet('airports/codes.parquet')"
   ]
  },
  {
   "cell_type": "code",
   "execution_count": 34,
   "metadata": {
    "editable": true
   },
   "outputs": [
    {
     "name": "stdout",
     "output_type": "stream",
     "text": [
      "+-----+------+-------+------+------+------+------+------+\n",
      "|cicid| i94yr|i94port|i94mon|i94cit|i94res|i94bir|gender|\n",
      "+-----+------+-------+------+------+------+------+------+\n",
      "| 18.0|2016.0|    NYC|   4.0| 101.0| 101.0|  57.0|  null|\n",
      "| 22.0|2016.0|    NYC|   4.0| 101.0| 101.0|  48.0|  null|\n",
      "| 27.0|2016.0|    BOS|   4.0| 101.0| 101.0|  58.0|     M|\n",
      "| 28.0|2016.0|    ATL|   4.0| 101.0| 101.0|  56.0|     F|\n",
      "| 40.0|2016.0|    CHI|   4.0| 101.0| 101.0|  35.0|     M|\n",
      "| 41.0|2016.0|    CHI|   4.0| 101.0| 101.0|  32.0|     M|\n",
      "| 42.0|2016.0|    CHI|   4.0| 101.0| 101.0|  38.0|     M|\n",
      "| 79.0|2016.0|    BOS|   4.0| 103.0| 103.0|  51.0|     M|\n",
      "| 84.0|2016.0|    BOS|   4.0| 103.0| 103.0|  22.0|     M|\n",
      "| 86.0|2016.0|    BOS|   4.0| 103.0| 103.0|  47.0|  null|\n",
      "| 87.0|2016.0|    BOS|   4.0| 103.0| 103.0|  34.0|  null|\n",
      "| 91.0|2016.0|    CLT|   4.0| 103.0| 103.0|  42.0|     F|\n",
      "| 95.0|2016.0|    DEN|   4.0| 103.0| 103.0|  38.0|     F|\n",
      "|104.0|2016.0|    DET|   4.0| 103.0| 103.0|  36.0|     M|\n",
      "|110.0|2016.0|    DET|   4.0| 103.0| 103.0|  34.0|     F|\n",
      "|111.0|2016.0|    DET|   4.0| 103.0| 103.0|  29.0|     M|\n",
      "|115.0|2016.0|    NEW|   4.0| 103.0| 103.0|  68.0|     M|\n",
      "|142.0|2016.0|    NEW|   4.0| 103.0| 103.0|  29.0|     M|\n",
      "|169.0|2016.0|    WAS|   4.0| 103.0| 103.0|  65.0|     M|\n",
      "|173.0|2016.0|    WAS|   4.0| 103.0| 103.0|  46.0|     M|\n",
      "+-----+------+-------+------+------+------+------+------+\n",
      "only showing top 20 rows\n",
      "\n"
     ]
    }
   ],
   "source": [
    "# Select only business travellers and interesting columns\n",
    "df_business = df_spark.filter(df_spark[\"i94visa\"]==1).select('cicid',\n",
    "                                                             'i94yr',\n",
    "                                                             'i94port',\n",
    "                                                             'i94mon',\n",
    "                                                             'i94cit',\n",
    "                                                             'i94res',\n",
    "                                                             'i94bir',\n",
    "                                                             'gender'\n",
    "                                                            )\n",
    "df_business.sort('cicid').show()"
   ]
  },
  {
   "cell_type": "code",
   "execution_count": 7,
   "metadata": {
    "editable": true
   },
   "outputs": [
    {
     "name": "stdout",
     "output_type": "stream",
     "text": [
      "+-------+------+-----+\n",
      "|i94port|i94bir|count|\n",
      "+-------+------+-----+\n",
      "|    CHI|  47.0| 1332|\n",
      "|    WAS|  32.0|  499|\n",
      "|    PHI|  61.0|   62|\n",
      "|    DUB|  27.0|  100|\n",
      "|    WAS|  41.0|  751|\n",
      "|    DAL|  45.0|  766|\n",
      "|    SEA|  45.0|  492|\n",
      "|    OGG|  32.0|   63|\n",
      "|    KOA|  84.0|    1|\n",
      "|    OGG|  23.0|    7|\n",
      "|    LVG|  25.0|  120|\n",
      "|    FMY|  49.0|   65|\n",
      "|    SPE|  51.0|    5|\n",
      "|    SPM|  69.0|    8|\n",
      "|    HAM|  36.0|   17|\n",
      "|    CIN|  47.0|   20|\n",
      "|    MAA|  18.0|    4|\n",
      "|    X96|  48.0|    2|\n",
      "|    MLB|  42.0|    1|\n",
      "|    WIN|  26.0|    1|\n",
      "+-------+------+-----+\n",
      "only showing top 20 rows\n",
      "\n"
     ]
    }
   ],
   "source": [
    "df_business.groupBy(\"i94port\", \"i94bir\").count().show()"
   ]
  },
  {
   "cell_type": "code",
   "execution_count": 8,
   "metadata": {
    "editable": true
   },
   "outputs": [
    {
     "name": "stdout",
     "output_type": "stream",
     "text": [
      "+-------+------+-----+\n",
      "|i94port|i94bir|count|\n",
      "+-------+------+-----+\n",
      "|    NYC|  42.0| 2353|\n",
      "|    NYC|  45.0| 2262|\n",
      "|    NYC|  44.0| 2216|\n",
      "|    NYC|  40.0| 2200|\n",
      "|    NYC|  43.0| 2160|\n",
      "|    NYC|  47.0| 2086|\n",
      "|    NYC|  39.0| 2084|\n",
      "|    NYC|  41.0| 2065|\n",
      "|    NYC|  38.0| 2063|\n",
      "|    NYC|  37.0| 2026|\n",
      "|    NYC|  36.0| 2024|\n",
      "|    NYC|  46.0| 2001|\n",
      "|    NYC|  48.0| 1992|\n",
      "|    NYC|  35.0| 1959|\n",
      "|    NYC|  34.0| 1854|\n",
      "|    NYC|  33.0| 1831|\n",
      "|    NYC|  49.0| 1816|\n",
      "|    LOS|  45.0| 1738|\n",
      "|    LOS|  43.0| 1717|\n",
      "|    LOS|  35.0| 1716|\n",
      "+-------+------+-----+\n",
      "only showing top 20 rows\n",
      "\n"
     ]
    }
   ],
   "source": [
    "df_business.groupBy(\"i94port\", \"i94bir\").count().sort(\"count\", ascending=False).show()"
   ]
  },
  {
   "cell_type": "code",
   "execution_count": 4,
   "metadata": {
    "editable": true
   },
   "outputs": [
    {
     "name": "stdout",
     "output_type": "stream",
     "text": [
      "+-------+------+-----+\n",
      "|i94port|i94bir|count|\n",
      "+-------+------+-----+\n",
      "|    LOS|  43.0| 1098|\n",
      "|    LOS|  41.0| 1087|\n",
      "|    LOS|  37.0| 1078|\n",
      "|    LOS|  38.0| 1077|\n",
      "|    LOS|  39.0| 1067|\n",
      "|    LOS|  44.0| 1043|\n",
      "|    LOS|  40.0| 1042|\n",
      "|    LOS|  35.0| 1038|\n",
      "|    LOS|  45.0| 1033|\n",
      "|    LOS|  42.0| 1007|\n",
      "|    LOS|  36.0|  988|\n",
      "|    LOS|  34.0|  982|\n",
      "|    SFR|  38.0|  982|\n",
      "|    SFR|  41.0|  982|\n",
      "|    SFR|  34.0|  982|\n",
      "|    SFR|  35.0|  976|\n",
      "|    SFR|  37.0|  974|\n",
      "|    LOS|  33.0|  964|\n",
      "|    SFR|  33.0|  958|\n",
      "|    LOS|  46.0|  957|\n",
      "+-------+------+-----+\n",
      "only showing top 20 rows\n",
      "\n"
     ]
    }
   ],
   "source": [
    "df_business.groupBy(\"i94port\", \"i94bir\").count().sort(\"count\", ascending=False).show()"
   ]
  },
  {
   "cell_type": "code",
   "execution_count": 3,
   "metadata": {
    "editable": true
   },
   "outputs": [],
   "source": [
    "year = 2016\n",
    "for i in range(1, 13):\n",
    "    file_name = 'i94_' + calendar.month_abbr[i].lower() + str(year)[-2:] + '_sub.sas7bdat'\n",
    "    file_path = '../../data/18-83510-I94-Data-2016/' + file_name\n",
    "    df_spark = spark.read.format('com.github.saurfang.sas.spark').load(file_path)\n",
    "    df_business = df_spark.filter(df_spark[\"i94visa\"]==1).selectExpr('cicid',\n",
    "                                                             'i94yr as year',\n",
    "                                                             'i94mon month',\n",
    "                                                             'i94port as port',\n",
    "                                                             'i94cit as origin',\n",
    "                                                             'i94bir as age',\n",
    "                                                             'gender'\n",
    "                                                            )\n",
    "    if i == 1:\n",
    "        df = df_business\n",
    "    else:\n",
    "        df = df.union(df_business)\n",
    "business_travellers_table = df\n",
    "#business_travellers_table.sort('cicid').show()\n",
    "    "
   ]
  },
  {
   "cell_type": "code",
   "execution_count": null,
   "metadata": {
    "editable": true
   },
   "outputs": [],
   "source": [
    "# write to parquet\n",
    "df.write.partitionBy('port', 'year').parquet(\"business_traveller_data\")"
   ]
  },
  {
   "cell_type": "code",
   "execution_count": 4,
   "metadata": {
    "editable": true
   },
   "outputs": [],
   "source": [
    "#write to parquet\n",
    "#df_spark.write.parquet(\"sas_data\")\n",
    "#df_spark=spark.read.parquet(\"sas_data\")"
   ]
  },
  {
   "cell_type": "code",
   "execution_count": 36,
   "metadata": {
    "editable": true
   },
   "outputs": [
    {
     "data": {
      "text/html": [
       "<div>\n",
       "<style scoped>\n",
       "    .dataframe tbody tr th:only-of-type {\n",
       "        vertical-align: middle;\n",
       "    }\n",
       "\n",
       "    .dataframe tbody tr th {\n",
       "        vertical-align: top;\n",
       "    }\n",
       "\n",
       "    .dataframe thead th {\n",
       "        text-align: right;\n",
       "    }\n",
       "</style>\n",
       "<table border=\"1\" class=\"dataframe\">\n",
       "  <thead>\n",
       "    <tr style=\"text-align: right;\">\n",
       "      <th></th>\n",
       "      <th>City</th>\n",
       "      <th>State</th>\n",
       "      <th>Median Age</th>\n",
       "      <th>Male Population</th>\n",
       "      <th>Female Population</th>\n",
       "      <th>Total Population</th>\n",
       "      <th>Number of Veterans</th>\n",
       "      <th>Foreign-born</th>\n",
       "      <th>Average Household Size</th>\n",
       "      <th>State Code</th>\n",
       "      <th>Race</th>\n",
       "      <th>Count</th>\n",
       "    </tr>\n",
       "  </thead>\n",
       "  <tbody>\n",
       "    <tr>\n",
       "      <th>2727</th>\n",
       "      <td>Abilene</td>\n",
       "      <td>Texas</td>\n",
       "      <td>31.3</td>\n",
       "      <td>65212.0</td>\n",
       "      <td>60664.0</td>\n",
       "      <td>125876</td>\n",
       "      <td>9367.0</td>\n",
       "      <td>8129.0</td>\n",
       "      <td>2.64</td>\n",
       "      <td>TX</td>\n",
       "      <td>Asian</td>\n",
       "      <td>2929</td>\n",
       "    </tr>\n",
       "    <tr>\n",
       "      <th>1403</th>\n",
       "      <td>Abilene</td>\n",
       "      <td>Texas</td>\n",
       "      <td>31.3</td>\n",
       "      <td>65212.0</td>\n",
       "      <td>60664.0</td>\n",
       "      <td>125876</td>\n",
       "      <td>9367.0</td>\n",
       "      <td>8129.0</td>\n",
       "      <td>2.64</td>\n",
       "      <td>TX</td>\n",
       "      <td>Hispanic or Latino</td>\n",
       "      <td>33222</td>\n",
       "    </tr>\n",
       "    <tr>\n",
       "      <th>1533</th>\n",
       "      <td>Abilene</td>\n",
       "      <td>Texas</td>\n",
       "      <td>31.3</td>\n",
       "      <td>65212.0</td>\n",
       "      <td>60664.0</td>\n",
       "      <td>125876</td>\n",
       "      <td>9367.0</td>\n",
       "      <td>8129.0</td>\n",
       "      <td>2.64</td>\n",
       "      <td>TX</td>\n",
       "      <td>White</td>\n",
       "      <td>95487</td>\n",
       "    </tr>\n",
       "    <tr>\n",
       "      <th>245</th>\n",
       "      <td>Abilene</td>\n",
       "      <td>Texas</td>\n",
       "      <td>31.3</td>\n",
       "      <td>65212.0</td>\n",
       "      <td>60664.0</td>\n",
       "      <td>125876</td>\n",
       "      <td>9367.0</td>\n",
       "      <td>8129.0</td>\n",
       "      <td>2.64</td>\n",
       "      <td>TX</td>\n",
       "      <td>American Indian and Alaska Native</td>\n",
       "      <td>1813</td>\n",
       "    </tr>\n",
       "    <tr>\n",
       "      <th>2880</th>\n",
       "      <td>Abilene</td>\n",
       "      <td>Texas</td>\n",
       "      <td>31.3</td>\n",
       "      <td>65212.0</td>\n",
       "      <td>60664.0</td>\n",
       "      <td>125876</td>\n",
       "      <td>9367.0</td>\n",
       "      <td>8129.0</td>\n",
       "      <td>2.64</td>\n",
       "      <td>TX</td>\n",
       "      <td>Black or African-American</td>\n",
       "      <td>14449</td>\n",
       "    </tr>\n",
       "    <tr>\n",
       "      <th>2175</th>\n",
       "      <td>Akron</td>\n",
       "      <td>Ohio</td>\n",
       "      <td>38.1</td>\n",
       "      <td>96886.0</td>\n",
       "      <td>100667.0</td>\n",
       "      <td>197553</td>\n",
       "      <td>12878.0</td>\n",
       "      <td>10024.0</td>\n",
       "      <td>2.24</td>\n",
       "      <td>OH</td>\n",
       "      <td>Asian</td>\n",
       "      <td>9033</td>\n",
       "    </tr>\n",
       "    <tr>\n",
       "      <th>560</th>\n",
       "      <td>Akron</td>\n",
       "      <td>Ohio</td>\n",
       "      <td>38.1</td>\n",
       "      <td>96886.0</td>\n",
       "      <td>100667.0</td>\n",
       "      <td>197553</td>\n",
       "      <td>12878.0</td>\n",
       "      <td>10024.0</td>\n",
       "      <td>2.24</td>\n",
       "      <td>OH</td>\n",
       "      <td>Black or African-American</td>\n",
       "      <td>66551</td>\n",
       "    </tr>\n",
       "    <tr>\n",
       "      <th>1100</th>\n",
       "      <td>Akron</td>\n",
       "      <td>Ohio</td>\n",
       "      <td>38.1</td>\n",
       "      <td>96886.0</td>\n",
       "      <td>100667.0</td>\n",
       "      <td>197553</td>\n",
       "      <td>12878.0</td>\n",
       "      <td>10024.0</td>\n",
       "      <td>2.24</td>\n",
       "      <td>OH</td>\n",
       "      <td>White</td>\n",
       "      <td>129192</td>\n",
       "    </tr>\n",
       "    <tr>\n",
       "      <th>2325</th>\n",
       "      <td>Akron</td>\n",
       "      <td>Ohio</td>\n",
       "      <td>38.1</td>\n",
       "      <td>96886.0</td>\n",
       "      <td>100667.0</td>\n",
       "      <td>197553</td>\n",
       "      <td>12878.0</td>\n",
       "      <td>10024.0</td>\n",
       "      <td>2.24</td>\n",
       "      <td>OH</td>\n",
       "      <td>Hispanic or Latino</td>\n",
       "      <td>3684</td>\n",
       "    </tr>\n",
       "    <tr>\n",
       "      <th>1972</th>\n",
       "      <td>Akron</td>\n",
       "      <td>Ohio</td>\n",
       "      <td>38.1</td>\n",
       "      <td>96886.0</td>\n",
       "      <td>100667.0</td>\n",
       "      <td>197553</td>\n",
       "      <td>12878.0</td>\n",
       "      <td>10024.0</td>\n",
       "      <td>2.24</td>\n",
       "      <td>OH</td>\n",
       "      <td>American Indian and Alaska Native</td>\n",
       "      <td>1845</td>\n",
       "    </tr>\n",
       "    <tr>\n",
       "      <th>1868</th>\n",
       "      <td>Alafaya</td>\n",
       "      <td>Florida</td>\n",
       "      <td>33.5</td>\n",
       "      <td>39504.0</td>\n",
       "      <td>45760.0</td>\n",
       "      <td>85264</td>\n",
       "      <td>4176.0</td>\n",
       "      <td>15842.0</td>\n",
       "      <td>2.94</td>\n",
       "      <td>FL</td>\n",
       "      <td>Black or African-American</td>\n",
       "      <td>6577</td>\n",
       "    </tr>\n",
       "    <tr>\n",
       "      <th>793</th>\n",
       "      <td>Alafaya</td>\n",
       "      <td>Florida</td>\n",
       "      <td>33.5</td>\n",
       "      <td>39504.0</td>\n",
       "      <td>45760.0</td>\n",
       "      <td>85264</td>\n",
       "      <td>4176.0</td>\n",
       "      <td>15842.0</td>\n",
       "      <td>2.94</td>\n",
       "      <td>FL</td>\n",
       "      <td>Hispanic or Latino</td>\n",
       "      <td>34897</td>\n",
       "    </tr>\n",
       "    <tr>\n",
       "      <th>135</th>\n",
       "      <td>Alafaya</td>\n",
       "      <td>Florida</td>\n",
       "      <td>33.5</td>\n",
       "      <td>39504.0</td>\n",
       "      <td>45760.0</td>\n",
       "      <td>85264</td>\n",
       "      <td>4176.0</td>\n",
       "      <td>15842.0</td>\n",
       "      <td>2.94</td>\n",
       "      <td>FL</td>\n",
       "      <td>White</td>\n",
       "      <td>63666</td>\n",
       "    </tr>\n",
       "    <tr>\n",
       "      <th>554</th>\n",
       "      <td>Alafaya</td>\n",
       "      <td>Florida</td>\n",
       "      <td>33.5</td>\n",
       "      <td>39504.0</td>\n",
       "      <td>45760.0</td>\n",
       "      <td>85264</td>\n",
       "      <td>4176.0</td>\n",
       "      <td>15842.0</td>\n",
       "      <td>2.94</td>\n",
       "      <td>FL</td>\n",
       "      <td>Asian</td>\n",
       "      <td>10336</td>\n",
       "    </tr>\n",
       "    <tr>\n",
       "      <th>1294</th>\n",
       "      <td>Alameda</td>\n",
       "      <td>California</td>\n",
       "      <td>41.4</td>\n",
       "      <td>37747.0</td>\n",
       "      <td>40867.0</td>\n",
       "      <td>78614</td>\n",
       "      <td>4504.0</td>\n",
       "      <td>18841.0</td>\n",
       "      <td>2.52</td>\n",
       "      <td>CA</td>\n",
       "      <td>White</td>\n",
       "      <td>44232</td>\n",
       "    </tr>\n",
       "    <tr>\n",
       "      <th>1293</th>\n",
       "      <td>Alameda</td>\n",
       "      <td>California</td>\n",
       "      <td>41.4</td>\n",
       "      <td>37747.0</td>\n",
       "      <td>40867.0</td>\n",
       "      <td>78614</td>\n",
       "      <td>4504.0</td>\n",
       "      <td>18841.0</td>\n",
       "      <td>2.52</td>\n",
       "      <td>CA</td>\n",
       "      <td>Hispanic or Latino</td>\n",
       "      <td>8265</td>\n",
       "    </tr>\n",
       "    <tr>\n",
       "      <th>2081</th>\n",
       "      <td>Alameda</td>\n",
       "      <td>California</td>\n",
       "      <td>41.4</td>\n",
       "      <td>37747.0</td>\n",
       "      <td>40867.0</td>\n",
       "      <td>78614</td>\n",
       "      <td>4504.0</td>\n",
       "      <td>18841.0</td>\n",
       "      <td>2.52</td>\n",
       "      <td>CA</td>\n",
       "      <td>Asian</td>\n",
       "      <td>27984</td>\n",
       "    </tr>\n",
       "    <tr>\n",
       "      <th>1819</th>\n",
       "      <td>Alameda</td>\n",
       "      <td>California</td>\n",
       "      <td>41.4</td>\n",
       "      <td>37747.0</td>\n",
       "      <td>40867.0</td>\n",
       "      <td>78614</td>\n",
       "      <td>4504.0</td>\n",
       "      <td>18841.0</td>\n",
       "      <td>2.52</td>\n",
       "      <td>CA</td>\n",
       "      <td>Black or African-American</td>\n",
       "      <td>7364</td>\n",
       "    </tr>\n",
       "    <tr>\n",
       "      <th>1046</th>\n",
       "      <td>Alameda</td>\n",
       "      <td>California</td>\n",
       "      <td>41.4</td>\n",
       "      <td>37747.0</td>\n",
       "      <td>40867.0</td>\n",
       "      <td>78614</td>\n",
       "      <td>4504.0</td>\n",
       "      <td>18841.0</td>\n",
       "      <td>2.52</td>\n",
       "      <td>CA</td>\n",
       "      <td>American Indian and Alaska Native</td>\n",
       "      <td>1329</td>\n",
       "    </tr>\n",
       "    <tr>\n",
       "      <th>2278</th>\n",
       "      <td>Albany</td>\n",
       "      <td>New York</td>\n",
       "      <td>32.8</td>\n",
       "      <td>47627.0</td>\n",
       "      <td>50825.0</td>\n",
       "      <td>98452</td>\n",
       "      <td>3643.0</td>\n",
       "      <td>11948.0</td>\n",
       "      <td>2.08</td>\n",
       "      <td>NY</td>\n",
       "      <td>Black or African-American</td>\n",
       "      <td>31303</td>\n",
       "    </tr>\n",
       "    <tr>\n",
       "      <th>2000</th>\n",
       "      <td>Albany</td>\n",
       "      <td>New York</td>\n",
       "      <td>32.8</td>\n",
       "      <td>47627.0</td>\n",
       "      <td>50825.0</td>\n",
       "      <td>98452</td>\n",
       "      <td>3643.0</td>\n",
       "      <td>11948.0</td>\n",
       "      <td>2.08</td>\n",
       "      <td>NY</td>\n",
       "      <td>White</td>\n",
       "      <td>58368</td>\n",
       "    </tr>\n",
       "    <tr>\n",
       "      <th>1165</th>\n",
       "      <td>Albany</td>\n",
       "      <td>Georgia</td>\n",
       "      <td>33.3</td>\n",
       "      <td>31695.0</td>\n",
       "      <td>39414.0</td>\n",
       "      <td>71109</td>\n",
       "      <td>5409.0</td>\n",
       "      <td>861.0</td>\n",
       "      <td>2.38</td>\n",
       "      <td>GA</td>\n",
       "      <td>American Indian and Alaska Native</td>\n",
       "      <td>445</td>\n",
       "    </tr>\n",
       "    <tr>\n",
       "      <th>1260</th>\n",
       "      <td>Albany</td>\n",
       "      <td>Georgia</td>\n",
       "      <td>33.3</td>\n",
       "      <td>31695.0</td>\n",
       "      <td>39414.0</td>\n",
       "      <td>71109</td>\n",
       "      <td>5409.0</td>\n",
       "      <td>861.0</td>\n",
       "      <td>2.38</td>\n",
       "      <td>GA</td>\n",
       "      <td>White</td>\n",
       "      <td>17160</td>\n",
       "    </tr>\n",
       "    <tr>\n",
       "      <th>2552</th>\n",
       "      <td>Albany</td>\n",
       "      <td>Georgia</td>\n",
       "      <td>33.3</td>\n",
       "      <td>31695.0</td>\n",
       "      <td>39414.0</td>\n",
       "      <td>71109</td>\n",
       "      <td>5409.0</td>\n",
       "      <td>861.0</td>\n",
       "      <td>2.38</td>\n",
       "      <td>GA</td>\n",
       "      <td>Hispanic or Latino</td>\n",
       "      <td>1783</td>\n",
       "    </tr>\n",
       "    <tr>\n",
       "      <th>2050</th>\n",
       "      <td>Albany</td>\n",
       "      <td>Georgia</td>\n",
       "      <td>33.3</td>\n",
       "      <td>31695.0</td>\n",
       "      <td>39414.0</td>\n",
       "      <td>71109</td>\n",
       "      <td>5409.0</td>\n",
       "      <td>861.0</td>\n",
       "      <td>2.38</td>\n",
       "      <td>GA</td>\n",
       "      <td>Black or African-American</td>\n",
       "      <td>53440</td>\n",
       "    </tr>\n",
       "    <tr>\n",
       "      <th>1809</th>\n",
       "      <td>Albany</td>\n",
       "      <td>New York</td>\n",
       "      <td>32.8</td>\n",
       "      <td>47627.0</td>\n",
       "      <td>50825.0</td>\n",
       "      <td>98452</td>\n",
       "      <td>3643.0</td>\n",
       "      <td>11948.0</td>\n",
       "      <td>2.08</td>\n",
       "      <td>NY</td>\n",
       "      <td>Hispanic or Latino</td>\n",
       "      <td>9368</td>\n",
       "    </tr>\n",
       "    <tr>\n",
       "      <th>1470</th>\n",
       "      <td>Albany</td>\n",
       "      <td>New York</td>\n",
       "      <td>32.8</td>\n",
       "      <td>47627.0</td>\n",
       "      <td>50825.0</td>\n",
       "      <td>98452</td>\n",
       "      <td>3643.0</td>\n",
       "      <td>11948.0</td>\n",
       "      <td>2.08</td>\n",
       "      <td>NY</td>\n",
       "      <td>American Indian and Alaska Native</td>\n",
       "      <td>1611</td>\n",
       "    </tr>\n",
       "    <tr>\n",
       "      <th>2472</th>\n",
       "      <td>Albany</td>\n",
       "      <td>New York</td>\n",
       "      <td>32.8</td>\n",
       "      <td>47627.0</td>\n",
       "      <td>50825.0</td>\n",
       "      <td>98452</td>\n",
       "      <td>3643.0</td>\n",
       "      <td>11948.0</td>\n",
       "      <td>2.08</td>\n",
       "      <td>NY</td>\n",
       "      <td>Asian</td>\n",
       "      <td>8090</td>\n",
       "    </tr>\n",
       "    <tr>\n",
       "      <th>1616</th>\n",
       "      <td>Albany</td>\n",
       "      <td>Georgia</td>\n",
       "      <td>33.3</td>\n",
       "      <td>31695.0</td>\n",
       "      <td>39414.0</td>\n",
       "      <td>71109</td>\n",
       "      <td>5409.0</td>\n",
       "      <td>861.0</td>\n",
       "      <td>2.38</td>\n",
       "      <td>GA</td>\n",
       "      <td>Asian</td>\n",
       "      <td>650</td>\n",
       "    </tr>\n",
       "    <tr>\n",
       "      <th>821</th>\n",
       "      <td>Albuquerque</td>\n",
       "      <td>New Mexico</td>\n",
       "      <td>36.0</td>\n",
       "      <td>273323.0</td>\n",
       "      <td>285808.0</td>\n",
       "      <td>559131</td>\n",
       "      <td>37443.0</td>\n",
       "      <td>58200.0</td>\n",
       "      <td>2.49</td>\n",
       "      <td>NM</td>\n",
       "      <td>White</td>\n",
       "      <td>411847</td>\n",
       "    </tr>\n",
       "    <tr>\n",
       "      <th>...</th>\n",
       "      <td>...</td>\n",
       "      <td>...</td>\n",
       "      <td>...</td>\n",
       "      <td>...</td>\n",
       "      <td>...</td>\n",
       "      <td>...</td>\n",
       "      <td>...</td>\n",
       "      <td>...</td>\n",
       "      <td>...</td>\n",
       "      <td>...</td>\n",
       "      <td>...</td>\n",
       "      <td>...</td>\n",
       "    </tr>\n",
       "    <tr>\n",
       "      <th>416</th>\n",
       "      <td>Yakima</td>\n",
       "      <td>Washington</td>\n",
       "      <td>34.0</td>\n",
       "      <td>45147.0</td>\n",
       "      <td>48553.0</td>\n",
       "      <td>93700</td>\n",
       "      <td>4705.0</td>\n",
       "      <td>15717.0</td>\n",
       "      <td>2.74</td>\n",
       "      <td>WA</td>\n",
       "      <td>Black or African-American</td>\n",
       "      <td>924</td>\n",
       "    </tr>\n",
       "    <tr>\n",
       "      <th>2787</th>\n",
       "      <td>Yakima</td>\n",
       "      <td>Washington</td>\n",
       "      <td>34.0</td>\n",
       "      <td>45147.0</td>\n",
       "      <td>48553.0</td>\n",
       "      <td>93700</td>\n",
       "      <td>4705.0</td>\n",
       "      <td>15717.0</td>\n",
       "      <td>2.74</td>\n",
       "      <td>WA</td>\n",
       "      <td>American Indian and Alaska Native</td>\n",
       "      <td>2042</td>\n",
       "    </tr>\n",
       "    <tr>\n",
       "      <th>98</th>\n",
       "      <td>Yakima</td>\n",
       "      <td>Washington</td>\n",
       "      <td>34.0</td>\n",
       "      <td>45147.0</td>\n",
       "      <td>48553.0</td>\n",
       "      <td>93700</td>\n",
       "      <td>4705.0</td>\n",
       "      <td>15717.0</td>\n",
       "      <td>2.74</td>\n",
       "      <td>WA</td>\n",
       "      <td>Hispanic or Latino</td>\n",
       "      <td>44172</td>\n",
       "    </tr>\n",
       "    <tr>\n",
       "      <th>2449</th>\n",
       "      <td>Yakima</td>\n",
       "      <td>Washington</td>\n",
       "      <td>34.0</td>\n",
       "      <td>45147.0</td>\n",
       "      <td>48553.0</td>\n",
       "      <td>93700</td>\n",
       "      <td>4705.0</td>\n",
       "      <td>15717.0</td>\n",
       "      <td>2.74</td>\n",
       "      <td>WA</td>\n",
       "      <td>White</td>\n",
       "      <td>79286</td>\n",
       "    </tr>\n",
       "    <tr>\n",
       "      <th>703</th>\n",
       "      <td>Yakima</td>\n",
       "      <td>Washington</td>\n",
       "      <td>34.0</td>\n",
       "      <td>45147.0</td>\n",
       "      <td>48553.0</td>\n",
       "      <td>93700</td>\n",
       "      <td>4705.0</td>\n",
       "      <td>15717.0</td>\n",
       "      <td>2.74</td>\n",
       "      <td>WA</td>\n",
       "      <td>Asian</td>\n",
       "      <td>2248</td>\n",
       "    </tr>\n",
       "    <tr>\n",
       "      <th>2412</th>\n",
       "      <td>Yonkers</td>\n",
       "      <td>New York</td>\n",
       "      <td>38.0</td>\n",
       "      <td>96580.0</td>\n",
       "      <td>104538.0</td>\n",
       "      <td>201118</td>\n",
       "      <td>4801.0</td>\n",
       "      <td>61247.0</td>\n",
       "      <td>2.80</td>\n",
       "      <td>NY</td>\n",
       "      <td>American Indian and Alaska Native</td>\n",
       "      <td>1112</td>\n",
       "    </tr>\n",
       "    <tr>\n",
       "      <th>1462</th>\n",
       "      <td>Yonkers</td>\n",
       "      <td>New York</td>\n",
       "      <td>38.0</td>\n",
       "      <td>96580.0</td>\n",
       "      <td>104538.0</td>\n",
       "      <td>201118</td>\n",
       "      <td>4801.0</td>\n",
       "      <td>61247.0</td>\n",
       "      <td>2.80</td>\n",
       "      <td>NY</td>\n",
       "      <td>White</td>\n",
       "      <td>129492</td>\n",
       "    </tr>\n",
       "    <tr>\n",
       "      <th>779</th>\n",
       "      <td>Yonkers</td>\n",
       "      <td>New York</td>\n",
       "      <td>38.0</td>\n",
       "      <td>96580.0</td>\n",
       "      <td>104538.0</td>\n",
       "      <td>201118</td>\n",
       "      <td>4801.0</td>\n",
       "      <td>61247.0</td>\n",
       "      <td>2.80</td>\n",
       "      <td>NY</td>\n",
       "      <td>Asian</td>\n",
       "      <td>13981</td>\n",
       "    </tr>\n",
       "    <tr>\n",
       "      <th>494</th>\n",
       "      <td>Yonkers</td>\n",
       "      <td>New York</td>\n",
       "      <td>38.0</td>\n",
       "      <td>96580.0</td>\n",
       "      <td>104538.0</td>\n",
       "      <td>201118</td>\n",
       "      <td>4801.0</td>\n",
       "      <td>61247.0</td>\n",
       "      <td>2.80</td>\n",
       "      <td>NY</td>\n",
       "      <td>Black or African-American</td>\n",
       "      <td>38731</td>\n",
       "    </tr>\n",
       "    <tr>\n",
       "      <th>48</th>\n",
       "      <td>Yonkers</td>\n",
       "      <td>New York</td>\n",
       "      <td>38.0</td>\n",
       "      <td>96580.0</td>\n",
       "      <td>104538.0</td>\n",
       "      <td>201118</td>\n",
       "      <td>4801.0</td>\n",
       "      <td>61247.0</td>\n",
       "      <td>2.80</td>\n",
       "      <td>NY</td>\n",
       "      <td>Hispanic or Latino</td>\n",
       "      <td>73608</td>\n",
       "    </tr>\n",
       "    <tr>\n",
       "      <th>1669</th>\n",
       "      <td>Yorba Linda</td>\n",
       "      <td>California</td>\n",
       "      <td>45.5</td>\n",
       "      <td>31960.0</td>\n",
       "      <td>36006.0</td>\n",
       "      <td>67966</td>\n",
       "      <td>3171.0</td>\n",
       "      <td>15532.0</td>\n",
       "      <td>3.00</td>\n",
       "      <td>CA</td>\n",
       "      <td>Black or African-American</td>\n",
       "      <td>1326</td>\n",
       "    </tr>\n",
       "    <tr>\n",
       "      <th>589</th>\n",
       "      <td>Yorba Linda</td>\n",
       "      <td>California</td>\n",
       "      <td>45.5</td>\n",
       "      <td>31960.0</td>\n",
       "      <td>36006.0</td>\n",
       "      <td>67966</td>\n",
       "      <td>3171.0</td>\n",
       "      <td>15532.0</td>\n",
       "      <td>3.00</td>\n",
       "      <td>CA</td>\n",
       "      <td>American Indian and Alaska Native</td>\n",
       "      <td>211</td>\n",
       "    </tr>\n",
       "    <tr>\n",
       "      <th>713</th>\n",
       "      <td>Yorba Linda</td>\n",
       "      <td>California</td>\n",
       "      <td>45.5</td>\n",
       "      <td>31960.0</td>\n",
       "      <td>36006.0</td>\n",
       "      <td>67966</td>\n",
       "      <td>3171.0</td>\n",
       "      <td>15532.0</td>\n",
       "      <td>3.00</td>\n",
       "      <td>CA</td>\n",
       "      <td>Hispanic or Latino</td>\n",
       "      <td>10599</td>\n",
       "    </tr>\n",
       "    <tr>\n",
       "      <th>990</th>\n",
       "      <td>Yorba Linda</td>\n",
       "      <td>California</td>\n",
       "      <td>45.5</td>\n",
       "      <td>31960.0</td>\n",
       "      <td>36006.0</td>\n",
       "      <td>67966</td>\n",
       "      <td>3171.0</td>\n",
       "      <td>15532.0</td>\n",
       "      <td>3.00</td>\n",
       "      <td>CA</td>\n",
       "      <td>Asian</td>\n",
       "      <td>17616</td>\n",
       "    </tr>\n",
       "    <tr>\n",
       "      <th>989</th>\n",
       "      <td>Yorba Linda</td>\n",
       "      <td>California</td>\n",
       "      <td>45.5</td>\n",
       "      <td>31960.0</td>\n",
       "      <td>36006.0</td>\n",
       "      <td>67966</td>\n",
       "      <td>3171.0</td>\n",
       "      <td>15532.0</td>\n",
       "      <td>3.00</td>\n",
       "      <td>CA</td>\n",
       "      <td>White</td>\n",
       "      <td>49980</td>\n",
       "    </tr>\n",
       "    <tr>\n",
       "      <th>772</th>\n",
       "      <td>Youngs</td>\n",
       "      <td>Ohio</td>\n",
       "      <td>37.5</td>\n",
       "      <td>30758.0</td>\n",
       "      <td>33851.0</td>\n",
       "      <td>64609</td>\n",
       "      <td>3620.0</td>\n",
       "      <td>1058.0</td>\n",
       "      <td>2.22</td>\n",
       "      <td>OH</td>\n",
       "      <td>American Indian and Alaska Native</td>\n",
       "      <td>875</td>\n",
       "    </tr>\n",
       "    <tr>\n",
       "      <th>2016</th>\n",
       "      <td>Youngs</td>\n",
       "      <td>Ohio</td>\n",
       "      <td>37.5</td>\n",
       "      <td>30758.0</td>\n",
       "      <td>33851.0</td>\n",
       "      <td>64609</td>\n",
       "      <td>3620.0</td>\n",
       "      <td>1058.0</td>\n",
       "      <td>2.22</td>\n",
       "      <td>OH</td>\n",
       "      <td>Black or African-American</td>\n",
       "      <td>31725</td>\n",
       "    </tr>\n",
       "    <tr>\n",
       "      <th>2015</th>\n",
       "      <td>Youngs</td>\n",
       "      <td>Ohio</td>\n",
       "      <td>37.5</td>\n",
       "      <td>30758.0</td>\n",
       "      <td>33851.0</td>\n",
       "      <td>64609</td>\n",
       "      <td>3620.0</td>\n",
       "      <td>1058.0</td>\n",
       "      <td>2.22</td>\n",
       "      <td>OH</td>\n",
       "      <td>White</td>\n",
       "      <td>33031</td>\n",
       "    </tr>\n",
       "    <tr>\n",
       "      <th>1722</th>\n",
       "      <td>Youngs</td>\n",
       "      <td>Ohio</td>\n",
       "      <td>37.5</td>\n",
       "      <td>30758.0</td>\n",
       "      <td>33851.0</td>\n",
       "      <td>64609</td>\n",
       "      <td>3620.0</td>\n",
       "      <td>1058.0</td>\n",
       "      <td>2.22</td>\n",
       "      <td>OH</td>\n",
       "      <td>Hispanic or Latino</td>\n",
       "      <td>7564</td>\n",
       "    </tr>\n",
       "    <tr>\n",
       "      <th>1042</th>\n",
       "      <td>Youngs</td>\n",
       "      <td>Ohio</td>\n",
       "      <td>37.5</td>\n",
       "      <td>30758.0</td>\n",
       "      <td>33851.0</td>\n",
       "      <td>64609</td>\n",
       "      <td>3620.0</td>\n",
       "      <td>1058.0</td>\n",
       "      <td>2.22</td>\n",
       "      <td>OH</td>\n",
       "      <td>Asian</td>\n",
       "      <td>247</td>\n",
       "    </tr>\n",
       "    <tr>\n",
       "      <th>2204</th>\n",
       "      <td>Yuba City</td>\n",
       "      <td>California</td>\n",
       "      <td>34.5</td>\n",
       "      <td>33654.0</td>\n",
       "      <td>33290.0</td>\n",
       "      <td>66944</td>\n",
       "      <td>4706.0</td>\n",
       "      <td>18032.0</td>\n",
       "      <td>2.90</td>\n",
       "      <td>CA</td>\n",
       "      <td>White</td>\n",
       "      <td>48746</td>\n",
       "    </tr>\n",
       "    <tr>\n",
       "      <th>587</th>\n",
       "      <td>Yuba City</td>\n",
       "      <td>California</td>\n",
       "      <td>34.5</td>\n",
       "      <td>33654.0</td>\n",
       "      <td>33290.0</td>\n",
       "      <td>66944</td>\n",
       "      <td>4706.0</td>\n",
       "      <td>18032.0</td>\n",
       "      <td>2.90</td>\n",
       "      <td>CA</td>\n",
       "      <td>American Indian and Alaska Native</td>\n",
       "      <td>2163</td>\n",
       "    </tr>\n",
       "    <tr>\n",
       "      <th>330</th>\n",
       "      <td>Yuba City</td>\n",
       "      <td>California</td>\n",
       "      <td>34.5</td>\n",
       "      <td>33654.0</td>\n",
       "      <td>33290.0</td>\n",
       "      <td>66944</td>\n",
       "      <td>4706.0</td>\n",
       "      <td>18032.0</td>\n",
       "      <td>2.90</td>\n",
       "      <td>CA</td>\n",
       "      <td>Hispanic or Latino</td>\n",
       "      <td>20890</td>\n",
       "    </tr>\n",
       "    <tr>\n",
       "      <th>1668</th>\n",
       "      <td>Yuba City</td>\n",
       "      <td>California</td>\n",
       "      <td>34.5</td>\n",
       "      <td>33654.0</td>\n",
       "      <td>33290.0</td>\n",
       "      <td>66944</td>\n",
       "      <td>4706.0</td>\n",
       "      <td>18032.0</td>\n",
       "      <td>2.90</td>\n",
       "      <td>CA</td>\n",
       "      <td>Black or African-American</td>\n",
       "      <td>1912</td>\n",
       "    </tr>\n",
       "    <tr>\n",
       "      <th>1895</th>\n",
       "      <td>Yuba City</td>\n",
       "      <td>California</td>\n",
       "      <td>34.5</td>\n",
       "      <td>33654.0</td>\n",
       "      <td>33290.0</td>\n",
       "      <td>66944</td>\n",
       "      <td>4706.0</td>\n",
       "      <td>18032.0</td>\n",
       "      <td>2.90</td>\n",
       "      <td>CA</td>\n",
       "      <td>Asian</td>\n",
       "      <td>15065</td>\n",
       "    </tr>\n",
       "    <tr>\n",
       "      <th>2859</th>\n",
       "      <td>Yuma</td>\n",
       "      <td>Arizona</td>\n",
       "      <td>33.4</td>\n",
       "      <td>48298.0</td>\n",
       "      <td>45847.0</td>\n",
       "      <td>94145</td>\n",
       "      <td>7182.0</td>\n",
       "      <td>19326.0</td>\n",
       "      <td>2.64</td>\n",
       "      <td>AZ</td>\n",
       "      <td>American Indian and Alaska Native</td>\n",
       "      <td>1228</td>\n",
       "    </tr>\n",
       "    <tr>\n",
       "      <th>1084</th>\n",
       "      <td>Yuma</td>\n",
       "      <td>Arizona</td>\n",
       "      <td>33.4</td>\n",
       "      <td>48298.0</td>\n",
       "      <td>45847.0</td>\n",
       "      <td>94145</td>\n",
       "      <td>7182.0</td>\n",
       "      <td>19326.0</td>\n",
       "      <td>2.64</td>\n",
       "      <td>AZ</td>\n",
       "      <td>Hispanic or Latino</td>\n",
       "      <td>57054</td>\n",
       "    </tr>\n",
       "    <tr>\n",
       "      <th>2105</th>\n",
       "      <td>Yuma</td>\n",
       "      <td>Arizona</td>\n",
       "      <td>33.4</td>\n",
       "      <td>48298.0</td>\n",
       "      <td>45847.0</td>\n",
       "      <td>94145</td>\n",
       "      <td>7182.0</td>\n",
       "      <td>19326.0</td>\n",
       "      <td>2.64</td>\n",
       "      <td>AZ</td>\n",
       "      <td>Black or African-American</td>\n",
       "      <td>3731</td>\n",
       "    </tr>\n",
       "    <tr>\n",
       "      <th>1619</th>\n",
       "      <td>Yuma</td>\n",
       "      <td>Arizona</td>\n",
       "      <td>33.4</td>\n",
       "      <td>48298.0</td>\n",
       "      <td>45847.0</td>\n",
       "      <td>94145</td>\n",
       "      <td>7182.0</td>\n",
       "      <td>19326.0</td>\n",
       "      <td>2.64</td>\n",
       "      <td>AZ</td>\n",
       "      <td>Asian</td>\n",
       "      <td>1180</td>\n",
       "    </tr>\n",
       "    <tr>\n",
       "      <th>875</th>\n",
       "      <td>Yuma</td>\n",
       "      <td>Arizona</td>\n",
       "      <td>33.4</td>\n",
       "      <td>48298.0</td>\n",
       "      <td>45847.0</td>\n",
       "      <td>94145</td>\n",
       "      <td>7182.0</td>\n",
       "      <td>19326.0</td>\n",
       "      <td>2.64</td>\n",
       "      <td>AZ</td>\n",
       "      <td>White</td>\n",
       "      <td>69691</td>\n",
       "    </tr>\n",
       "  </tbody>\n",
       "</table>\n",
       "<p>2891 rows × 12 columns</p>\n",
       "</div>"
      ],
      "text/plain": [
       "             City       State  Median Age  Male Population  Female Population  \\\n",
       "2727      Abilene       Texas        31.3          65212.0            60664.0   \n",
       "1403      Abilene       Texas        31.3          65212.0            60664.0   \n",
       "1533      Abilene       Texas        31.3          65212.0            60664.0   \n",
       "245       Abilene       Texas        31.3          65212.0            60664.0   \n",
       "2880      Abilene       Texas        31.3          65212.0            60664.0   \n",
       "2175        Akron        Ohio        38.1          96886.0           100667.0   \n",
       "560         Akron        Ohio        38.1          96886.0           100667.0   \n",
       "1100        Akron        Ohio        38.1          96886.0           100667.0   \n",
       "2325        Akron        Ohio        38.1          96886.0           100667.0   \n",
       "1972        Akron        Ohio        38.1          96886.0           100667.0   \n",
       "1868      Alafaya     Florida        33.5          39504.0            45760.0   \n",
       "793       Alafaya     Florida        33.5          39504.0            45760.0   \n",
       "135       Alafaya     Florida        33.5          39504.0            45760.0   \n",
       "554       Alafaya     Florida        33.5          39504.0            45760.0   \n",
       "1294      Alameda  California        41.4          37747.0            40867.0   \n",
       "1293      Alameda  California        41.4          37747.0            40867.0   \n",
       "2081      Alameda  California        41.4          37747.0            40867.0   \n",
       "1819      Alameda  California        41.4          37747.0            40867.0   \n",
       "1046      Alameda  California        41.4          37747.0            40867.0   \n",
       "2278       Albany    New York        32.8          47627.0            50825.0   \n",
       "2000       Albany    New York        32.8          47627.0            50825.0   \n",
       "1165       Albany     Georgia        33.3          31695.0            39414.0   \n",
       "1260       Albany     Georgia        33.3          31695.0            39414.0   \n",
       "2552       Albany     Georgia        33.3          31695.0            39414.0   \n",
       "2050       Albany     Georgia        33.3          31695.0            39414.0   \n",
       "1809       Albany    New York        32.8          47627.0            50825.0   \n",
       "1470       Albany    New York        32.8          47627.0            50825.0   \n",
       "2472       Albany    New York        32.8          47627.0            50825.0   \n",
       "1616       Albany     Georgia        33.3          31695.0            39414.0   \n",
       "821   Albuquerque  New Mexico        36.0         273323.0           285808.0   \n",
       "...           ...         ...         ...              ...                ...   \n",
       "416        Yakima  Washington        34.0          45147.0            48553.0   \n",
       "2787       Yakima  Washington        34.0          45147.0            48553.0   \n",
       "98         Yakima  Washington        34.0          45147.0            48553.0   \n",
       "2449       Yakima  Washington        34.0          45147.0            48553.0   \n",
       "703        Yakima  Washington        34.0          45147.0            48553.0   \n",
       "2412      Yonkers    New York        38.0          96580.0           104538.0   \n",
       "1462      Yonkers    New York        38.0          96580.0           104538.0   \n",
       "779       Yonkers    New York        38.0          96580.0           104538.0   \n",
       "494       Yonkers    New York        38.0          96580.0           104538.0   \n",
       "48        Yonkers    New York        38.0          96580.0           104538.0   \n",
       "1669  Yorba Linda  California        45.5          31960.0            36006.0   \n",
       "589   Yorba Linda  California        45.5          31960.0            36006.0   \n",
       "713   Yorba Linda  California        45.5          31960.0            36006.0   \n",
       "990   Yorba Linda  California        45.5          31960.0            36006.0   \n",
       "989   Yorba Linda  California        45.5          31960.0            36006.0   \n",
       "772        Youngs        Ohio        37.5          30758.0            33851.0   \n",
       "2016       Youngs        Ohio        37.5          30758.0            33851.0   \n",
       "2015       Youngs        Ohio        37.5          30758.0            33851.0   \n",
       "1722       Youngs        Ohio        37.5          30758.0            33851.0   \n",
       "1042       Youngs        Ohio        37.5          30758.0            33851.0   \n",
       "2204    Yuba City  California        34.5          33654.0            33290.0   \n",
       "587     Yuba City  California        34.5          33654.0            33290.0   \n",
       "330     Yuba City  California        34.5          33654.0            33290.0   \n",
       "1668    Yuba City  California        34.5          33654.0            33290.0   \n",
       "1895    Yuba City  California        34.5          33654.0            33290.0   \n",
       "2859         Yuma     Arizona        33.4          48298.0            45847.0   \n",
       "1084         Yuma     Arizona        33.4          48298.0            45847.0   \n",
       "2105         Yuma     Arizona        33.4          48298.0            45847.0   \n",
       "1619         Yuma     Arizona        33.4          48298.0            45847.0   \n",
       "875          Yuma     Arizona        33.4          48298.0            45847.0   \n",
       "\n",
       "      Total Population  Number of Veterans  Foreign-born  \\\n",
       "2727            125876              9367.0        8129.0   \n",
       "1403            125876              9367.0        8129.0   \n",
       "1533            125876              9367.0        8129.0   \n",
       "245             125876              9367.0        8129.0   \n",
       "2880            125876              9367.0        8129.0   \n",
       "2175            197553             12878.0       10024.0   \n",
       "560             197553             12878.0       10024.0   \n",
       "1100            197553             12878.0       10024.0   \n",
       "2325            197553             12878.0       10024.0   \n",
       "1972            197553             12878.0       10024.0   \n",
       "1868             85264              4176.0       15842.0   \n",
       "793              85264              4176.0       15842.0   \n",
       "135              85264              4176.0       15842.0   \n",
       "554              85264              4176.0       15842.0   \n",
       "1294             78614              4504.0       18841.0   \n",
       "1293             78614              4504.0       18841.0   \n",
       "2081             78614              4504.0       18841.0   \n",
       "1819             78614              4504.0       18841.0   \n",
       "1046             78614              4504.0       18841.0   \n",
       "2278             98452              3643.0       11948.0   \n",
       "2000             98452              3643.0       11948.0   \n",
       "1165             71109              5409.0         861.0   \n",
       "1260             71109              5409.0         861.0   \n",
       "2552             71109              5409.0         861.0   \n",
       "2050             71109              5409.0         861.0   \n",
       "1809             98452              3643.0       11948.0   \n",
       "1470             98452              3643.0       11948.0   \n",
       "2472             98452              3643.0       11948.0   \n",
       "1616             71109              5409.0         861.0   \n",
       "821             559131             37443.0       58200.0   \n",
       "...                ...                 ...           ...   \n",
       "416              93700              4705.0       15717.0   \n",
       "2787             93700              4705.0       15717.0   \n",
       "98               93700              4705.0       15717.0   \n",
       "2449             93700              4705.0       15717.0   \n",
       "703              93700              4705.0       15717.0   \n",
       "2412            201118              4801.0       61247.0   \n",
       "1462            201118              4801.0       61247.0   \n",
       "779             201118              4801.0       61247.0   \n",
       "494             201118              4801.0       61247.0   \n",
       "48              201118              4801.0       61247.0   \n",
       "1669             67966              3171.0       15532.0   \n",
       "589              67966              3171.0       15532.0   \n",
       "713              67966              3171.0       15532.0   \n",
       "990              67966              3171.0       15532.0   \n",
       "989              67966              3171.0       15532.0   \n",
       "772              64609              3620.0        1058.0   \n",
       "2016             64609              3620.0        1058.0   \n",
       "2015             64609              3620.0        1058.0   \n",
       "1722             64609              3620.0        1058.0   \n",
       "1042             64609              3620.0        1058.0   \n",
       "2204             66944              4706.0       18032.0   \n",
       "587              66944              4706.0       18032.0   \n",
       "330              66944              4706.0       18032.0   \n",
       "1668             66944              4706.0       18032.0   \n",
       "1895             66944              4706.0       18032.0   \n",
       "2859             94145              7182.0       19326.0   \n",
       "1084             94145              7182.0       19326.0   \n",
       "2105             94145              7182.0       19326.0   \n",
       "1619             94145              7182.0       19326.0   \n",
       "875              94145              7182.0       19326.0   \n",
       "\n",
       "      Average Household Size State Code                               Race  \\\n",
       "2727                    2.64         TX                              Asian   \n",
       "1403                    2.64         TX                 Hispanic or Latino   \n",
       "1533                    2.64         TX                              White   \n",
       "245                     2.64         TX  American Indian and Alaska Native   \n",
       "2880                    2.64         TX          Black or African-American   \n",
       "2175                    2.24         OH                              Asian   \n",
       "560                     2.24         OH          Black or African-American   \n",
       "1100                    2.24         OH                              White   \n",
       "2325                    2.24         OH                 Hispanic or Latino   \n",
       "1972                    2.24         OH  American Indian and Alaska Native   \n",
       "1868                    2.94         FL          Black or African-American   \n",
       "793                     2.94         FL                 Hispanic or Latino   \n",
       "135                     2.94         FL                              White   \n",
       "554                     2.94         FL                              Asian   \n",
       "1294                    2.52         CA                              White   \n",
       "1293                    2.52         CA                 Hispanic or Latino   \n",
       "2081                    2.52         CA                              Asian   \n",
       "1819                    2.52         CA          Black or African-American   \n",
       "1046                    2.52         CA  American Indian and Alaska Native   \n",
       "2278                    2.08         NY          Black or African-American   \n",
       "2000                    2.08         NY                              White   \n",
       "1165                    2.38         GA  American Indian and Alaska Native   \n",
       "1260                    2.38         GA                              White   \n",
       "2552                    2.38         GA                 Hispanic or Latino   \n",
       "2050                    2.38         GA          Black or African-American   \n",
       "1809                    2.08         NY                 Hispanic or Latino   \n",
       "1470                    2.08         NY  American Indian and Alaska Native   \n",
       "2472                    2.08         NY                              Asian   \n",
       "1616                    2.38         GA                              Asian   \n",
       "821                     2.49         NM                              White   \n",
       "...                      ...        ...                                ...   \n",
       "416                     2.74         WA          Black or African-American   \n",
       "2787                    2.74         WA  American Indian and Alaska Native   \n",
       "98                      2.74         WA                 Hispanic or Latino   \n",
       "2449                    2.74         WA                              White   \n",
       "703                     2.74         WA                              Asian   \n",
       "2412                    2.80         NY  American Indian and Alaska Native   \n",
       "1462                    2.80         NY                              White   \n",
       "779                     2.80         NY                              Asian   \n",
       "494                     2.80         NY          Black or African-American   \n",
       "48                      2.80         NY                 Hispanic or Latino   \n",
       "1669                    3.00         CA          Black or African-American   \n",
       "589                     3.00         CA  American Indian and Alaska Native   \n",
       "713                     3.00         CA                 Hispanic or Latino   \n",
       "990                     3.00         CA                              Asian   \n",
       "989                     3.00         CA                              White   \n",
       "772                     2.22         OH  American Indian and Alaska Native   \n",
       "2016                    2.22         OH          Black or African-American   \n",
       "2015                    2.22         OH                              White   \n",
       "1722                    2.22         OH                 Hispanic or Latino   \n",
       "1042                    2.22         OH                              Asian   \n",
       "2204                    2.90         CA                              White   \n",
       "587                     2.90         CA  American Indian and Alaska Native   \n",
       "330                     2.90         CA                 Hispanic or Latino   \n",
       "1668                    2.90         CA          Black or African-American   \n",
       "1895                    2.90         CA                              Asian   \n",
       "2859                    2.64         AZ  American Indian and Alaska Native   \n",
       "1084                    2.64         AZ                 Hispanic or Latino   \n",
       "2105                    2.64         AZ          Black or African-American   \n",
       "1619                    2.64         AZ                              Asian   \n",
       "875                     2.64         AZ                              White   \n",
       "\n",
       "       Count  \n",
       "2727    2929  \n",
       "1403   33222  \n",
       "1533   95487  \n",
       "245     1813  \n",
       "2880   14449  \n",
       "2175    9033  \n",
       "560    66551  \n",
       "1100  129192  \n",
       "2325    3684  \n",
       "1972    1845  \n",
       "1868    6577  \n",
       "793    34897  \n",
       "135    63666  \n",
       "554    10336  \n",
       "1294   44232  \n",
       "1293    8265  \n",
       "2081   27984  \n",
       "1819    7364  \n",
       "1046    1329  \n",
       "2278   31303  \n",
       "2000   58368  \n",
       "1165     445  \n",
       "1260   17160  \n",
       "2552    1783  \n",
       "2050   53440  \n",
       "1809    9368  \n",
       "1470    1611  \n",
       "2472    8090  \n",
       "1616     650  \n",
       "821   411847  \n",
       "...      ...  \n",
       "416      924  \n",
       "2787    2042  \n",
       "98     44172  \n",
       "2449   79286  \n",
       "703     2248  \n",
       "2412    1112  \n",
       "1462  129492  \n",
       "779    13981  \n",
       "494    38731  \n",
       "48     73608  \n",
       "1669    1326  \n",
       "589      211  \n",
       "713    10599  \n",
       "990    17616  \n",
       "989    49980  \n",
       "772      875  \n",
       "2016   31725  \n",
       "2015   33031  \n",
       "1722    7564  \n",
       "1042     247  \n",
       "2204   48746  \n",
       "587     2163  \n",
       "330    20890  \n",
       "1668    1912  \n",
       "1895   15065  \n",
       "2859    1228  \n",
       "1084   57054  \n",
       "2105    3731  \n",
       "1619    1180  \n",
       "875    69691  \n",
       "\n",
       "[2891 rows x 12 columns]"
      ]
     },
     "execution_count": 36,
     "metadata": {},
     "output_type": "execute_result"
    }
   ],
   "source": [
    "# Read in the data here\n",
    "df = pd.read_csv(\"us-cities-demographics.csv\", sep=';')\n",
    "df.sort_values('City')"
   ]
  },
  {
   "cell_type": "code",
   "execution_count": 37,
   "metadata": {
    "editable": true
   },
   "outputs": [
    {
     "name": "stdout",
     "output_type": "stream",
     "text": [
      "+----------------+----------+----------+---------------+-----------------+----------------+------------+--------------------+------+\n",
      "|            City|State Code|Median Age|Male Population|Female Population|Total Population|Foreign-born|                Race| Count|\n",
      "+----------------+----------+----------+---------------+-----------------+----------------+------------+--------------------+------+\n",
      "|   Silver Spring|        MD|      33.8|          40601|            41862|           82463|       30908|  Hispanic or Latino| 25924|\n",
      "|          Quincy|        MA|      41.0|          44129|            49500|           93629|       32935|               White| 58723|\n",
      "|          Hoover|        AL|      38.5|          38040|            46799|           84839|        8229|               Asian|  4759|\n",
      "|Rancho Cucamonga|        CA|      34.5|          88127|            87105|          175232|       33878|Black or African-...| 24437|\n",
      "|          Newark|        NJ|      34.6|         138040|           143873|          281913|       86253|               White| 76402|\n",
      "|          Peoria|        IL|      33.1|          56229|            62432|          118661|        7517|American Indian a...|  1343|\n",
      "|        Avondale|        AZ|      29.1|          38712|            41971|           80683|        8355|Black or African-...| 11592|\n",
      "|     West Covina|        CA|      39.8|          51629|            56860|          108489|       37038|               Asian| 32716|\n",
      "|        O'Fallon|        MO|      36.0|          41762|            43270|           85032|        3269|  Hispanic or Latino|  2583|\n",
      "|      High Point|        NC|      35.5|          51751|            58077|          109828|       16315|               Asian| 11060|\n",
      "|          Folsom|        CA|      40.9|          41051|            35317|           76368|       13234|  Hispanic or Latino|  5822|\n",
      "|          Folsom|        CA|      40.9|          41051|            35317|           76368|       13234|American Indian a...|   998|\n",
      "|    Philadelphia|        PA|      34.1|         741270|           826172|         1567442|      205339|               Asian|122721|\n",
      "|         Wichita|        KS|      34.6|         192354|           197601|          389955|       40270|  Hispanic or Latino| 65162|\n",
      "|         Wichita|        KS|      34.6|         192354|           197601|          389955|       40270|American Indian a...|  8791|\n",
      "|      Fort Myers|        FL|      37.3|          36850|            37165|           74015|       15365|               White| 50169|\n",
      "|      Pittsburgh|        PA|      32.9|         149690|           154695|          304385|       28187|               White|208863|\n",
      "|          Laredo|        TX|      28.8|         124305|           131484|          255789|       68427|American Indian a...|  1253|\n",
      "|        Berkeley|        CA|      32.5|          60142|            60829|          120971|       25000|               Asian| 27089|\n",
      "|     Santa Clara|        CA|      35.2|          63278|            62938|          126216|       52281|               White| 55847|\n",
      "+----------------+----------+----------+---------------+-----------------+----------------+------------+--------------------+------+\n",
      "only showing top 20 rows\n",
      "\n"
     ]
    }
   ],
   "source": [
    "city_demographics_table = spark.read.csv(\"us-cities-demographics.csv\", header=True, sep=';')\n",
    "city_demographics_table = city_demographics_table.select('City',\n",
    "                                                         'State Code',\n",
    "                                                         'Median Age',\n",
    "                                                         'Male Population', \n",
    "                                                         'Female Population',\n",
    "                                                         'Total Population',\n",
    "                                                         'Foreign-born',\n",
    "                                                         'Race',\n",
    "                                                         'Count'\n",
    "                                                         )\n",
    "city_demographics_table.show()"
   ]
  },
  {
   "cell_type": "code",
   "execution_count": 52,
   "metadata": {
    "editable": true
   },
   "outputs": [
    {
     "data": {
      "text/plain": [
       "array([nan, 'UTK', 'OCA', ..., 'SHE', 'YNJ', 'YKH'], dtype=object)"
      ]
     },
     "execution_count": 52,
     "metadata": {},
     "output_type": "execute_result"
    }
   ],
   "source": [
    "# Read in the data here\n",
    "df = pd.read_csv(\"airport-codes_csv.csv\")\n",
    "#df.columns\n",
    "#df.iso_region[0].split(\"-\")[1]\n",
    "#df.head(5)\n",
    "df.iata_code.unique()"
   ]
  },
  {
   "cell_type": "code",
   "execution_count": 5,
   "metadata": {
    "editable": true
   },
   "outputs": [
    {
     "name": "stdout",
     "output_type": "stream",
     "text": [
      "+---------+------+---------------+\n",
      "|iata_code|region|   municipality|\n",
      "+---------+------+---------------+\n",
      "|      UTK|   UTI|  Utirik Island|\n",
      "|      OCA|    FL|      Key Largo|\n",
      "|      PQS|    AK|  Pilot Station|\n",
      "|      CSE|    CO|  Crested Butte|\n",
      "|      JCY|    TX|   Johnson City|\n",
      "|      PMX|    MA|         Palmer|\n",
      "|      WLR|    AK|         Loring|\n",
      "|      NUP|    AK|    Nunapitchuk|\n",
      "|      PTC|    AK|     Port Alice|\n",
      "|      ICY|    AK|        Icy Bay|\n",
      "|      PPV|    AK|Port Protection|\n",
      "|      KKK|    AK|Kalakaket Creek|\n",
      "|      MHS|    CA|       Dunsmuir|\n",
      "|      GCT|    AZ|       Whitmore|\n",
      "|      ELW|    AK|        Ellamar|\n",
      "|      LVD|    AK|   Lime Village|\n",
      "|      FIV|    AK|    Five Finger|\n",
      "|      HGZ|    AK|        Hogatza|\n",
      "|      OTN|    IN|        Oaktown|\n",
      "|      TLF|    AK|         Telida|\n",
      "+---------+------+---------------+\n",
      "only showing top 20 rows\n",
      "\n"
     ]
    }
   ],
   "source": [
    "airport_codes = spark.read.csv(\"airport-codes_csv.csv\", header=True, sep=',')\n",
    "extract_code = udf(lambda x: x.split(\"-\")[1])\n",
    "airport_codes_table = airport_codes.withColumn('region', extract_code('iso_region')).select('iata_code',\n",
    "                                                                                            'region', \n",
    "                                                                                            'municipality')\n",
    "#airport_codes_table.filter(col('iata_code') != 'empty-value').show()\n",
    "airport_codes_table.where(col('iata_code').isNotNull()).show()"
   ]
  },
  {
   "cell_type": "markdown",
   "metadata": {
    "editable": true
   },
   "source": [
    "### Step 2: Explore and Assess the Data\n",
    "#### Explore the Data \n",
    "In this session I identify data quality issues, like missing values, duplicate data, etc for each tables, i.e., business_travellers_table, city_demographics_table, and airport_codes_table.\n",
    "\n",
    "#### Cleaning Steps\n",
    "1. The business travellers table\n",
    "    * **Origins**: The origins (*i94cit* column) of these business travellers contain many invalid codes. Since we     can't cateogrize these origins, we can either group them into a new category called 'unknow' or filter them         out. It is difficult to peer into this unknown category so I decide to get rid of it. Beside, the portion of       this category is very small (around 0.3%). \n",
    "    * **Age**: For age there are also null values and it is very difficult to interpret. But luckily it is also a       very small portion so I can easily remove it.\n",
    "    * **Gender**: There are also many null values in gender. Since people may have various reasons to not to reveal     their genders, and it is largely a self-identified issue, I keep the categories intact.\n",
    "    * Problem of multiple entries. Unfortunately, we miss a unique identifier for each person. For some reason the long cicid field does not persist in the sas file. But luckily it also makes sense for diversity calculation: if a place constantly attracts like-minded people, it is less diverse."
   ]
  },
  {
   "cell_type": "code",
   "execution_count": 6,
   "metadata": {
    "editable": true
   },
   "outputs": [],
   "source": [
    "# Performing cleaning tasks for business travellers table to check for invalid origins\n",
    "invalid_codes = [0,54,100,106,134,187,190,200,219,238,239,277,293,300,311,319,365,394,395,400,403,404,407,471,485,501,503,505,506,574,583,589,592,700,705,710,712,719,720,730,731,737,739,740,741,753,755,791,849,914,944,996,999]\n",
    "df = business_travellers_table\n",
    "df_valid = df.filter(~df.origin.isin(*invalid_codes))\n",
    "df_invalid = df.filter(df.origin.isin(*invalid_codes))\n",
    "#df_invalid.count()/df.count()"
   ]
  },
  {
   "cell_type": "code",
   "execution_count": 7,
   "metadata": {
    "editable": true
   },
   "outputs": [
    {
     "name": "stdout",
     "output_type": "stream",
     "text": [
      "+------+-------+\n",
      "|gender|  count|\n",
      "+------+-------+\n",
      "|     F|1053724|\n",
      "|  null| 988178|\n",
      "|     M|3512234|\n",
      "|     U|    639|\n",
      "|     X|    208|\n",
      "+------+-------+\n",
      "\n"
     ]
    }
   ],
   "source": [
    "# Performing cleaning tasks for business travellers table to check for unknown gender\n",
    "df_valid.groupby('gender').count().show()"
   ]
  },
  {
   "cell_type": "code",
   "execution_count": 8,
   "metadata": {
    "editable": true
   },
   "outputs": [],
   "source": [
    "# Performing cleaning tasks for business travellers table to check for unknown age\n",
    "df_valid = df_valid.filter(col('age') != 'empty-value')"
   ]
  },
  {
   "cell_type": "code",
   "execution_count": 7,
   "metadata": {
    "editable": true
   },
   "outputs": [],
   "source": [
    "df_valid = df.filter(~df.origin.isin(*invalid_codes))\n",
    "df_valid2 = df_valid.where(col(\"age\").isNotNull())\n",
    "#df_valid2.groupBy('age').count().sort('count').show()"
   ]
  },
  {
   "cell_type": "code",
   "execution_count": 8,
   "metadata": {
    "editable": true
   },
   "outputs": [],
   "source": [
    "business_travellers_table = df_valid2"
   ]
  },
  {
   "cell_type": "markdown",
   "metadata": {
    "editable": true
   },
   "source": [
    "2. The city demographics table\n",
    "    * For this table, there are also some null values, for example, in the columns such as *Male Population*,             *Female Population*, and *Foreign-born*. Since there are only a few cases, I decide to delete them from the         dataset."
   ]
  },
  {
   "cell_type": "code",
   "execution_count": 23,
   "metadata": {
    "editable": true
   },
   "outputs": [
    {
     "name": "stdout",
     "output_type": "stream",
     "text": [
      "+----+----------+----------+---------------+-----------------+----------------+------------+----+\n",
      "|City|State Code|Median Age|Male Population|Female Population|Total Population|Foreign-born|Race|\n",
      "+----+----------+----------+---------------+-----------------+----------------+------------+----+\n",
      "|2891|      2891|      2891|           2888|             2888|            2891|        2878|2891|\n",
      "+----+----------+----------+---------------+-----------------+----------------+------------+----+\n",
      "\n"
     ]
    },
    {
     "data": {
      "text/plain": [
       "2891"
      ]
     },
     "execution_count": 23,
     "metadata": {},
     "output_type": "execute_result"
    }
   ],
   "source": [
    "#city_demographics_table.dropna().count()/city_demographics_table.count()\n",
    "df = city_demographics_table\n",
    "df.agg(*[\n",
    "    count(c).alias(c)    # vertical (column-wise) operations in SQL ignore NULLs\n",
    "    for c in df.columns\n",
    "]).show()\n",
    "df.count()"
   ]
  },
  {
   "cell_type": "code",
   "execution_count": 25,
   "metadata": {
    "editable": true
   },
   "outputs": [
    {
     "name": "stdout",
     "output_type": "stream",
     "text": [
      "+------------+----------+----------+---------------+-----------------+----------------+------------+--------------------+\n",
      "|        City|State Code|Median Age|Male Population|Female Population|Total Population|Foreign-born|                Race|\n",
      "+------------+----------+----------+---------------+-----------------+----------------+------------+--------------------+\n",
      "|The Villages|        FL|      70.5|           null|             null|           72590|        4034|  Hispanic or Latino|\n",
      "|The Villages|        FL|      70.5|           null|             null|           72590|        4034|Black or African-...|\n",
      "|The Villages|        FL|      70.5|           null|             null|           72590|        4034|               White|\n",
      "+------------+----------+----------+---------------+-----------------+----------------+------------+--------------------+\n",
      "\n"
     ]
    }
   ],
   "source": [
    "df.filter(col('Male Population').isNull()).show()"
   ]
  },
  {
   "cell_type": "code",
   "execution_count": 9,
   "metadata": {
    "editable": true
   },
   "outputs": [
    {
     "data": {
      "text/plain": [
       "2875"
      ]
     },
     "execution_count": 9,
     "metadata": {},
     "output_type": "execute_result"
    }
   ],
   "source": [
    "city_demographics_table = city_demographics_table.na.drop()\n",
    "city_demographics_table.count()"
   ]
  },
  {
   "cell_type": "markdown",
   "metadata": {
    "editable": true
   },
   "source": [
    "3. The airport codes table\n",
    "    * There are also some null values in this table, for example, in the columns *iata_code* and *municipality*. Since I need to use all the three columns for matching, I can only drop all the null values."
   ]
  },
  {
   "cell_type": "code",
   "execution_count": 10,
   "metadata": {
    "editable": true
   },
   "outputs": [],
   "source": [
    "airport_codes_table = airport_codes_table.where(col('iata_code').isNotNull())"
   ]
  },
  {
   "cell_type": "code",
   "execution_count": 18,
   "metadata": {
    "editable": true
   },
   "outputs": [
    {
     "name": "stdout",
     "output_type": "stream",
     "text": [
      "+---------+------+------------+\n",
      "|iata_code|region|municipality|\n",
      "+---------+------+------------+\n",
      "|     9189|  9189|        8423|\n",
      "+---------+------+------------+\n",
      "\n",
      "+---------+------+------------+\n",
      "|iata_code|region|municipality|\n",
      "+---------+------+------------+\n",
      "|      AEE|    23|        null|\n",
      "|      OLR|   PIA|        null|\n",
      "|      AFR|   NPP|        null|\n",
      "|      CHY|    CH|        null|\n",
      "|      AVU|    GU|        null|\n",
      "|      MUA|    WE|        null|\n",
      "|      AGL|   NPP|        null|\n",
      "|      AMF|   ESW|        null|\n",
      "|      AMY|     M|        null|\n",
      "|      ANL|   BIE|        null|\n",
      "|      AOB|   MPM|        null|\n",
      "|      APP|   NPP|        null|\n",
      "|      ARP|   MBA|        null|\n",
      "|      ASZ|   WBK|        null|\n",
      "|      AUP|   MBA|        null|\n",
      "|      AUS|    TX|        null|\n",
      "|      KPM|   EPW|        null|\n",
      "|      RMN|   WPD|        null|\n",
      "|      SBE|   WPD|        null|\n",
      "|      WBM|   EPW|        null|\n",
      "+---------+------+------------+\n",
      "only showing top 20 rows\n",
      "\n"
     ]
    }
   ],
   "source": [
    "df = airport_codes_table\n",
    "df.agg(*[\n",
    "    count(c).alias(c)    # vertical (column-wise) operations in SQL ignore NULLs\n",
    "    for c in df.columns\n",
    "]).show()\n",
    "df.filter(col('municipality').isNull()).show()"
   ]
  },
  {
   "cell_type": "code",
   "execution_count": 10,
   "metadata": {
    "editable": true
   },
   "outputs": [],
   "source": [
    "airport_codes_table = airport_codes_table.na.drop()"
   ]
  },
  {
   "cell_type": "markdown",
   "metadata": {
    "editable": true
   },
   "source": [
    "### Step 3: Define the Data Model\n",
    "#### 3.1 Conceptual Data Model\n",
    "The conceptual data model includes two dim tables, i.e., *airport codes table* and *city demographics table*, and one fact table, i.e., *business travellers table*. Because I aim for a longitudinal study, in the long term the *city demographics table* should also become a fact table with annual data. \n",
    "\n",
    "#### 3.2 Mapping Out Data Pipelines\n",
    "I use pyspark to read the data from the source (ideally from s3 buckets), process the data, and output the tables as parquet files to another s3 buckets. Essentially it is a data lake that read different kinds of files (e.g., sas and csv) and then store them into the s3 buckets."
   ]
  },
  {
   "cell_type": "markdown",
   "metadata": {
    "editable": true
   },
   "source": [
    "### Step 4: Run Pipelines to Model the Data \n",
    "#### 4.1 Create the data model\n",
    "The data model has already been structured in the previous steps inside the data processing enabled by pyspark. The only step missing is to export these processed files as parquets to the s3 buckets."
   ]
  },
  {
   "cell_type": "code",
   "execution_count": null,
   "metadata": {
    "editable": true
   },
   "outputs": [],
   "source": [
    "# export business travellers table, we may want to devide it by airports and years\n",
    "business_travellers_table.write.partitionBy('port', 'year').parquet(\"business_traveller_data\")"
   ]
  },
  {
   "cell_type": "code",
   "execution_count": null,
   "metadata": {
    "editable": true
   },
   "outputs": [],
   "source": [
    "# export the other two tables\n",
    "airport_codes_table.write.parquet(\"airport_codes_table\")\n",
    "city_demograpics_table.write.parquet(\"city_demographics_table\")"
   ]
  },
  {
   "cell_type": "markdown",
   "metadata": {
    "editable": true
   },
   "source": [
    "#### 4.2 Data Quality Checks\n",
    "There are several ways to do the quality checks for our datasets:\n",
    " * Check there are still null values in the tables after the cleaning process. We could assume that there won't be any null values except for the *gender* field.\n",
    " * Check the differences in the number of records between different tables. We could assume that we have much more airports than the ones that receive immigrants, and that we have much more cities than airports.\n",
    " * Check whether the travellers are unique: whether there is any duplicates in their ids.\n",
    " \n",
    "Run Quality Checks"
   ]
  },
  {
   "cell_type": "code",
   "execution_count": 12,
   "metadata": {
    "editable": true
   },
   "outputs": [],
   "source": [
    "# define the function to check the number of null values for a column\n",
    "def check_nulls(df, colname):\n",
    "    return df.filter(col(colname).isNull()).count()"
   ]
  },
  {
   "cell_type": "code",
   "execution_count": 20,
   "metadata": {
    "editable": true
   },
   "outputs": [],
   "source": [
    "# define the function to compare the number of records between different tables\n",
    "def compare_unique_records(df1, df2, colname1, colname2):\n",
    "    return df1.select(colname1).dropDuplicates().count() - df2.select(colname2).dropDuplicates().count()"
   ]
  },
  {
   "cell_type": "code",
   "execution_count": 24,
   "metadata": {
    "editable": true
   },
   "outputs": [],
   "source": [
    "# define the function to check unique id\n",
    "def check_unique(df, colname):\n",
    "    if df.count() > df.dropDuplicates(colname).count():\n",
    "        raise ValueError('Data has duplicates')"
   ]
  },
  {
   "cell_type": "code",
   "execution_count": 14,
   "metadata": {
    "editable": true
   },
   "outputs": [
    {
     "data": {
      "text/plain": [
       "0"
      ]
     },
     "execution_count": 14,
     "metadata": {},
     "output_type": "execute_result"
    }
   ],
   "source": [
    "# Perform quality checks for null values\n",
    "check_nulls(business_travellers_table, 'year')"
   ]
  },
  {
   "cell_type": "code",
   "execution_count": 23,
   "metadata": {
    "editable": true
   },
   "outputs": [
    {
     "data": {
      "text/plain": [
       "{'cicid': 0,\n",
       " 'year': 0,\n",
       " 'month': 0,\n",
       " 'port': 0,\n",
       " 'origin': 0,\n",
       " 'age': 0,\n",
       " 'gender': 988178,\n",
       " 'City': 0,\n",
       " 'State Code': 0,\n",
       " 'Median Age': 0,\n",
       " 'Male Population': 0,\n",
       " 'Female Population': 0,\n",
       " 'Total Population': 0,\n",
       " 'Foreign-born': 0,\n",
       " 'Race': 0,\n",
       " 'iata_code': 0,\n",
       " 'region': 0,\n",
       " 'municipality': 0}"
      ]
     },
     "execution_count": 23,
     "metadata": {},
     "output_type": "execute_result"
    }
   ],
   "source": [
    "check_null = {}\n",
    "tables = [business_travellers_table, city_demographics_table, airport_codes_table]\n",
    "for table in tables:\n",
    "    for colname in table.columns:\n",
    "        check_null[colname] = check_nulls(table, colname)\n",
    "check_null"
   ]
  },
  {
   "cell_type": "code",
   "execution_count": 21,
   "metadata": {
    "editable": true
   },
   "outputs": [
    {
     "data": {
      "text/plain": [
       "-7952"
      ]
     },
     "execution_count": 21,
     "metadata": {},
     "output_type": "execute_result"
    }
   ],
   "source": [
    "# Perform quality checks for difference between unique records\n",
    "compare_unique_records(business_travellers_table, airport_codes_table, 'port', 'iata_code')\n"
   ]
  },
  {
   "cell_type": "code",
   "execution_count": 22,
   "metadata": {
    "editable": true
   },
   "outputs": [
    {
     "data": {
      "text/plain": [
       "-7168"
      ]
     },
     "execution_count": 22,
     "metadata": {},
     "output_type": "execute_result"
    }
   ],
   "source": [
    "compare_unique_records(city_demographics_table, airport_codes_table, 'City', 'municipality')"
   ]
  },
  {
   "cell_type": "code",
   "execution_count": null,
   "metadata": {
    "editable": true
   },
   "outputs": [],
   "source": [
    "check_unique(business_travellers_table, 'cicid')"
   ]
  },
  {
   "cell_type": "markdown",
   "metadata": {
    "editable": true
   },
   "source": [
    "#### 4.3 Data dictionary \n",
    "In this session I create a data dictionary to explain the fields in all the tables."
   ]
  },
  {
   "cell_type": "code",
   "execution_count": 13,
   "metadata": {
    "editable": true
   },
   "outputs": [
    {
     "name": "stdout",
     "output_type": "stream",
     "text": [
      "root\n",
      " |-- cicid: double (nullable = true)\n",
      " |-- year: double (nullable = true)\n",
      " |-- month: double (nullable = true)\n",
      " |-- port: string (nullable = true)\n",
      " |-- origin: double (nullable = true)\n",
      " |-- age: double (nullable = true)\n",
      " |-- gender: string (nullable = true)\n",
      "\n"
     ]
    }
   ],
   "source": [
    "business_travellers_table.printSchema()"
   ]
  },
  {
   "cell_type": "code",
   "execution_count": 14,
   "metadata": {
    "editable": true
   },
   "outputs": [
    {
     "name": "stdout",
     "output_type": "stream",
     "text": [
      "root\n",
      " |-- City: string (nullable = true)\n",
      " |-- State Code: string (nullable = true)\n",
      " |-- Median Age: string (nullable = true)\n",
      " |-- Male Population: string (nullable = true)\n",
      " |-- Female Population: string (nullable = true)\n",
      " |-- Total Population: string (nullable = true)\n",
      " |-- Foreign-born: string (nullable = true)\n",
      " |-- Race: string (nullable = true)\n",
      "\n"
     ]
    }
   ],
   "source": [
    "city_demographics_table.printSchema()"
   ]
  },
  {
   "cell_type": "code",
   "execution_count": 15,
   "metadata": {
    "editable": true
   },
   "outputs": [
    {
     "name": "stdout",
     "output_type": "stream",
     "text": [
      "root\n",
      " |-- iata_code: string (nullable = true)\n",
      " |-- region: string (nullable = true)\n",
      " |-- municipality: string (nullable = true)\n",
      "\n"
     ]
    }
   ],
   "source": [
    "airport_codes_table.printSchema()"
   ]
  },
  {
   "cell_type": "markdown",
   "metadata": {
    "editable": true
   },
   "source": [
    "#### 4.4 Data analysis\n",
    "I attempt to do some data analysis, primarily calculating different diversity scores for both the business immigrants and the U.S. cities. I then connect these two tables through the airports table and illustrate whether there is indeed a trend.\n",
    "For the method to calculate the diversity score, I simply adopt the [Herfindahl Index](https://en.wikipedia.org/wiki/Herfindahl%E2%80%93Hirschman_Index).\n",
    "In this attempt, I will simply compare the origins of business immigrant to the races in the local community."
   ]
  },
  {
   "cell_type": "code",
   "execution_count": 3,
   "metadata": {
    "editable": true
   },
   "outputs": [],
   "source": [
    "from pyspark.sql.functions import pandas_udf, PandasUDFType"
   ]
  },
  {
   "cell_type": "code",
   "execution_count": 4,
   "metadata": {
    "editable": true
   },
   "outputs": [],
   "source": [
    "# calculate the diversity score for the origins of businness immigrants\n",
    "business_travellers_table = spark.read.parquet(\"immigrants/business_travellers.parquet\")"
   ]
  },
  {
   "cell_type": "code",
   "execution_count": 5,
   "metadata": {
    "editable": true
   },
   "outputs": [
    {
     "name": "stdout",
     "output_type": "stream",
     "text": [
      "+----+------+-----+\n",
      "|port|origin|count|\n",
      "+----+------+-----+\n",
      "| LOS| 743.0|   94|\n",
      "| NYC| 375.0|   43|\n",
      "| CHI| 104.0| 7104|\n",
      "| CHI| 260.0| 2255|\n",
      "| SFR| 441.0|   12|\n",
      "| LOS| 386.0|    8|\n",
      "| LOS| 387.0|    9|\n",
      "| NEW| 166.0|  397|\n",
      "| NEW| 327.0|    3|\n",
      "| NEW| 370.0|   57|\n",
      "| SFR| 766.0|    3|\n",
      "| LVG| 251.0|  797|\n",
      "| WAS| 322.0|   27|\n",
      "| CHI| 416.0|    1|\n",
      "| BOS| 298.0|   48|\n",
      "| XXX| 528.0|   27|\n",
      "| WAS| 765.0|    1|\n",
      "| DET| 121.0|   35|\n",
      "| ORL| 145.0|   26|\n",
      "| ORL| 166.0|  118|\n",
      "+----+------+-----+\n",
      "only showing top 20 rows\n",
      "\n"
     ]
    }
   ],
   "source": [
    "immigrants_origins = business_travellers_table.groupBy('port', 'origin').count()\n",
    "immigrants_origins.show()"
   ]
  },
  {
   "cell_type": "code",
   "execution_count": 7,
   "metadata": {
    "collapsed": true,
    "editable": true,
    "jupyter": {
     "outputs_hidden": true
    }
   },
   "outputs": [
    {
     "name": "stdout",
     "output_type": "stream",
     "text": [
      "Collecting package metadata: done\n",
      "Solving environment: done\n",
      "\n",
      "\n",
      "==> WARNING: A newer version of conda exists. <==\n",
      "  current version: 4.6.14\n",
      "  latest version: 4.8.0\n",
      "\n",
      "Please update conda by running\n",
      "\n",
      "    $ conda update -n base conda\n",
      "\n",
      "\n",
      "\n",
      "## Package Plan ##\n",
      "\n",
      "  environment location: /opt/conda\n",
      "\n",
      "  added / updated specs:\n",
      "    - pyarrow\n",
      "\n",
      "\n",
      "The following packages will be downloaded:\n",
      "\n",
      "    package                    |            build\n",
      "    ---------------------------|-----------------\n",
      "    arrow-cpp-0.10.0           |   py36h70250a7_0         4.3 MB  conda-forge\n",
      "    boost-cpp-1.67.0           |       h3a22d5f_0        19.7 MB  conda-forge\n",
      "    ca-certificates-2019.11.28 |       hecc5488_0         145 KB  conda-forge\n",
      "    certifi-2019.11.28         |           py36_0         149 KB  conda-forge\n",
      "    openssl-1.0.2u             |       h516909a_0         3.2 MB  conda-forge\n",
      "    parquet-cpp-1.5.0.pre      |       h83d4a3d_0         1.3 MB  conda-forge\n",
      "    pyarrow-0.10.0             |   py36hfc679d8_0         1.8 MB  conda-forge\n",
      "    ------------------------------------------------------------\n",
      "                                           Total:        30.5 MB\n",
      "\n",
      "The following NEW packages will be INSTALLED:\n",
      "\n",
      "  arrow-cpp          conda-forge/linux-64::arrow-cpp-0.10.0-py36h70250a7_0\n",
      "  boost-cpp          conda-forge/linux-64::boost-cpp-1.67.0-h3a22d5f_0\n",
      "  parquet-cpp        conda-forge/linux-64::parquet-cpp-1.5.0.pre-h83d4a3d_0\n",
      "  pyarrow            conda-forge/linux-64::pyarrow-0.10.0-py36hfc679d8_0\n",
      "\n",
      "The following packages will be UPDATED:\n",
      "\n",
      "  ca-certificates                      2019.6.16-hecc5488_0 --> 2019.11.28-hecc5488_0\n",
      "  certifi                                  2019.6.16-py36_1 --> 2019.11.28-py36_0\n",
      "  openssl                                 1.0.2r-h14c3975_0 --> 1.0.2u-h516909a_0\n",
      "\n",
      "\n",
      "\n",
      "Downloading and Extracting Packages\n",
      "boost-cpp-1.67.0     | 19.7 MB   | ##################################### | 100% \n",
      "certifi-2019.11.28   | 149 KB    | ##################################### | 100% \n",
      "openssl-1.0.2u       | 3.2 MB    | ##################################### | 100% \n",
      "pyarrow-0.10.0       | 1.8 MB    | ##################################### | 100% \n",
      "ca-certificates-2019 | 145 KB    | ##################################### | 100% \n",
      "parquet-cpp-1.5.0.pr | 1.3 MB    | ##################################### | 100% \n",
      "arrow-cpp-0.10.0     | 4.3 MB    | ##################################### | 100% \n",
      "Preparing transaction: done\n",
      "Verifying transaction: done\n",
      "Executing transaction: done\n"
     ]
    }
   ],
   "source": [
    "!conda install pyarrow -y"
   ]
  },
  {
   "cell_type": "code",
   "execution_count": 8,
   "metadata": {
    "editable": true
   },
   "outputs": [],
   "source": [
    "@pandas_udf(\"float\", PandasUDFType.GROUPED_AGG)\n",
    "def diversity_index(n):\n",
    "    return sum(i*i for i in n/n.sum())"
   ]
  },
  {
   "cell_type": "code",
   "execution_count": 23,
   "metadata": {
    "editable": true
   },
   "outputs": [],
   "source": [
    "diversity_origins = immigrants_origins.groupby('port').agg(diversity_index(immigrants_origins['count']).alias('origins_diversity'))"
   ]
  },
  {
   "cell_type": "code",
   "execution_count": 32,
   "metadata": {
    "editable": true
   },
   "outputs": [],
   "source": [
    "# calculate median age for each port\n",
    "import pyspark.sql.functions as F\n",
    "median_percentile = F.expr('percentile_approx(age, 0.5)')\n",
    "immigrants_median_age = business_travellers_table.groupBy('port').agg(median_percentile.alias('immigrants_median_age'))"
   ]
  },
  {
   "cell_type": "code",
   "execution_count": 40,
   "metadata": {
    "editable": true
   },
   "outputs": [],
   "source": [
    "# calculate total number of immigrants for each port\n",
    "total_immigrants = business_travellers_table.groupBy('port').count().withColumnRenamed('count', 'total_immigrants')"
   ]
  },
  {
   "cell_type": "code",
   "execution_count": 45,
   "metadata": {
    "editable": true
   },
   "outputs": [],
   "source": [
    "# join and create the business immigrant profile\n",
    "diversity = diversity_origins.alias('diversity')\n",
    "median = immigrants_median_age.alias('median')\n",
    "total = total_immigrants.alias('total')\n",
    "business_immigrants_profile = total.join(diversity, ['port']).join(median, ['port'])"
   ]
  },
  {
   "cell_type": "code",
   "execution_count": 22,
   "metadata": {
    "editable": true
   },
   "outputs": [
    {
     "name": "stdout",
     "output_type": "stream",
     "text": [
      "+-------+-----+----------+---------------+-----------------+----------------+------------+--------------------+------+\n",
      "|   city|state|median_age|male_population|female_population|total_population|foreign_born|                race| count|\n",
      "+-------+-----+----------+---------------+-----------------+----------------+------------+--------------------+------+\n",
      "|Abilene|   TX|      31.3|          65212|            60664|          125876|        8129|American Indian a...|  1813|\n",
      "|Abilene|   TX|      31.3|          65212|            60664|          125876|        8129|  Hispanic or Latino| 33222|\n",
      "|Abilene|   TX|      31.3|          65212|            60664|          125876|        8129|               White| 95487|\n",
      "|Abilene|   TX|      31.3|          65212|            60664|          125876|        8129|               Asian|  2929|\n",
      "|Abilene|   TX|      31.3|          65212|            60664|          125876|        8129|Black or African-...| 14449|\n",
      "|  Akron|   OH|      38.1|          96886|           100667|          197553|       10024|               White|129192|\n",
      "|  Akron|   OH|      38.1|          96886|           100667|          197553|       10024|  Hispanic or Latino|  3684|\n",
      "|  Akron|   OH|      38.1|          96886|           100667|          197553|       10024|Black or African-...| 66551|\n",
      "|  Akron|   OH|      38.1|          96886|           100667|          197553|       10024|               Asian|  9033|\n",
      "|  Akron|   OH|      38.1|          96886|           100667|          197553|       10024|American Indian a...|  1845|\n",
      "|Alafaya|   FL|      33.5|          39504|            45760|           85264|       15842|  Hispanic or Latino| 34897|\n",
      "|Alafaya|   FL|      33.5|          39504|            45760|           85264|       15842|               Asian| 10336|\n",
      "|Alafaya|   FL|      33.5|          39504|            45760|           85264|       15842|               White| 63666|\n",
      "|Alafaya|   FL|      33.5|          39504|            45760|           85264|       15842|Black or African-...|  6577|\n",
      "|Alameda|   CA|      41.4|          37747|            40867|           78614|       18841|               White| 44232|\n",
      "|Alameda|   CA|      41.4|          37747|            40867|           78614|       18841|American Indian a...|  1329|\n",
      "|Alameda|   CA|      41.4|          37747|            40867|           78614|       18841|Black or African-...|  7364|\n",
      "|Alameda|   CA|      41.4|          37747|            40867|           78614|       18841|  Hispanic or Latino|  8265|\n",
      "|Alameda|   CA|      41.4|          37747|            40867|           78614|       18841|               Asian| 27984|\n",
      "| Albany|   NY|      32.8|          47627|            50825|           98452|       11948|  Hispanic or Latino|  9368|\n",
      "+-------+-----+----------+---------------+-----------------+----------------+------------+--------------------+------+\n",
      "only showing top 20 rows\n",
      "\n"
     ]
    }
   ],
   "source": [
    "# calculate the diversity score of races for the cities\n",
    "cities_table = spark.read.parquet(\"cities/demographics.parquet\")\n",
    "cities_table.sort('city').show()"
   ]
  },
  {
   "cell_type": "code",
   "execution_count": 66,
   "metadata": {
    "editable": true
   },
   "outputs": [
    {
     "name": "stdout",
     "output_type": "stream",
     "text": [
      "+--------------+-----+--------------+\n",
      "|          city|state|race_diversity|\n",
      "+--------------+-----+--------------+\n",
      "|     Asheville|   NC|     0.7053235|\n",
      "|          Mesa|   AZ|    0.52843666|\n",
      "|       Norwalk|   CA|    0.39067382|\n",
      "|        Arvada|   CO|     0.6783022|\n",
      "|   Minneapolis|   MN|    0.43344656|\n",
      "|Mount Pleasant|   SC|     0.8193302|\n",
      "| Mountain View|   CA|     0.3925255|\n",
      "|      Waukegan|   IL|     0.3938271|\n",
      "|       Deltona|   FL|     0.4681588|\n",
      "|       Fontana|   CA|    0.42428112|\n",
      "|       Ontario|   CA|    0.39601865|\n",
      "|  South Jordan|   UT|    0.80181634|\n",
      "|  Lee's Summit|   MO|     0.7128693|\n",
      "|   Saint Cloud|   MN|    0.69082457|\n",
      "|       Lansing|   MI|    0.40064973|\n",
      "|   Santa Clara|   CA|    0.34694657|\n",
      "|        Folsom|   CA|    0.51138544|\n",
      "|        Lawton|   OK|    0.35990155|\n",
      "|   Maple Grove|   MN|    0.71720946|\n",
      "|     Davenport|   IA|     0.6174773|\n",
      "+--------------+-----+--------------+\n",
      "only showing top 20 rows\n",
      "\n"
     ]
    }
   ],
   "source": [
    "from pyspark.sql.types import IntegerType, FloatType\n",
    "cities_table = cities_table.withColumn(\"count\", cities_table[\"count\"].cast(IntegerType()))\n",
    "race_diversity = cities_table.groupby(['city', 'state']).agg(diversity_index(cities_table['count']).alias('race_diversity'))\n",
    "race_diversity.show()"
   ]
  },
  {
   "cell_type": "code",
   "execution_count": 48,
   "metadata": {
    "editable": true
   },
   "outputs": [],
   "source": [
    "# create city profile\n",
    "median = cities_table.selectExpr('city', 'state', 'median_age AS residents_median_age').alias('median')\n",
    "diversity = race_diversity.alias('diversity')\n",
    "cities_profile = diversity.join(median, ['city', 'state'])"
   ]
  },
  {
   "cell_type": "code",
   "execution_count": 49,
   "metadata": {
    "editable": true
   },
   "outputs": [],
   "source": [
    "# join tables\n",
    "airports_table = spark.read.parquet(\"airports/codes.parquet\")"
   ]
  },
  {
   "cell_type": "code",
   "execution_count": 50,
   "metadata": {
    "editable": true
   },
   "outputs": [],
   "source": [
    "airports = airports_table.alias('airports')\n",
    "immigrants = business_immigrants_profile.alias('immigrants')\n",
    "cities = cities_profile.alias('cities')"
   ]
  },
  {
   "cell_type": "code",
   "execution_count": 62,
   "metadata": {
    "editable": true
   },
   "outputs": [
    {
     "data": {
      "text/plain": [
       "pyspark.sql.dataframe.DataFrame"
      ]
     },
     "execution_count": 62,
     "metadata": {},
     "output_type": "execute_result"
    }
   ],
   "source": [
    "# create final results table\n",
    "cond = [airports.region == cities.state, airports.municipality == cities.city]\n",
    "results = airports.join(cities, cond).join(immigrants, airports.iata_code == immigrants.port).  \\\n",
    "withColumnRenamed('iata_code', 'port')"
   ]
  },
  {
   "cell_type": "code",
   "execution_count": 67,
   "metadata": {
    "editable": true
   },
   "outputs": [],
   "source": [
    "# calculate the correlation matrix\n",
    "from pyspark.mllib.stat import Statistics\n",
    "df = results.drop('port', 'region', 'municipality', 'city', 'state')\n",
    "df = df.select([col(c).cast(FloatType()) for c in df.columns])\n",
    "col_names = df.columns\n",
    "features = df.rdd.map(lambda row: row[0:])\n",
    "corr_mat = Statistics.corr(features, method=\"pearson\")\n",
    "corr_df = pd.DataFrame(corr_mat)\n",
    "corr_df.index, corr_df.columns = col_names, col_names"
   ]
  },
  {
   "cell_type": "code",
   "execution_count": 68,
   "metadata": {
    "editable": true
   },
   "outputs": [
    {
     "name": "stdout",
     "output_type": "stream",
     "text": [
      "                       race_diversity  residents_median_age  total_immigrants  origins_diversity  immigrants_median_age\n",
      "race_diversity               1.000000              0.203812         -0.206098           0.003761              -0.082244\n",
      "residents_median_age         0.203812              1.000000          0.135067          -0.086572              -0.033849\n",
      "total_immigrants            -0.206098              0.135067          1.000000          -0.327010              -0.060557\n",
      "origins_diversity            0.003761             -0.086572         -0.327010           1.000000              -0.031757\n",
      "immigrants_median_age       -0.082244             -0.033849         -0.060557          -0.031757               1.000000\n"
     ]
    }
   ],
   "source": [
    "print(corr_df.to_string())"
   ]
  },
  {
   "cell_type": "code",
   "execution_count": 70,
   "metadata": {
    "editable": true
   },
   "outputs": [
    {
     "data": {
      "text/plain": [
       "<matplotlib.axes._subplots.AxesSubplot at 0x7f888e60df28>"
      ]
     },
     "execution_count": 70,
     "metadata": {},
     "output_type": "execute_result"
    },
    {
     "data": {
      "image/png": "[encoded data removed]",
      "text/plain": [
       "<matplotlib.figure.Figure at 0x7f888e5eb550>"
      ]
     },
     "metadata": {
      "needs_background": "light"
     },
     "output_type": "display_data"
    }
   ],
   "source": [
    "import seaborn as sns\n",
    "%matplotlib inline\n",
    "sns.heatmap(corr_df, annot=True)"
   ]
  },
  {
   "cell_type": "markdown",
   "metadata": {
    "editable": true
   },
   "source": [
    "#### Step 5: Complete Project Write Up\n",
    "* Clearly state the rationale for the choice of tools and technologies for the project.\n",
    "* Propose how often the data should be updated and why.\n",
    "* Write a description of how you would approach the problem differently under the following scenarios:\n",
    " * The data was increased by 100x.\n",
    " * The data populates a dashboard that must be updated on a daily basis by 7am every day.\n",
    " * The database needed to be accessed by 100+ people."
   ]
  },
  {
   "cell_type": "code",
   "execution_count": null,
   "metadata": {
    "editable": true
   },
   "outputs": [],
   "source": []
  },
  {
   "cell_type": "code",
   "execution_count": null,
   "metadata": {
    "editable": true
   },
   "outputs": [],
   "source": []
  },
  {
   "cell_type": "code",
   "execution_count": null,
   "metadata": {
    "editable": true
   },
   "outputs": [],
   "source": []
  },
  {
   "cell_type": "code",
   "execution_count": null,
   "metadata": {
    "editable": true
   },
   "outputs": [],
   "source": []
  },
  {
   "cell_type": "code",
   "execution_count": null,
   "metadata": {
    "editable": true
   },
   "outputs": [],
   "source": []
  },
  {
   "cell_type": "code",
   "execution_count": null,
   "metadata": {
    "editable": true
   },
   "outputs": [],
   "source": []
  }
 ],
 "metadata": {
  "kernelspec": {
   "display_name": "Python 3",
   "language": "python",
   "name": "python3"
  },
  "language_info": {
   "codemirror_mode": {
    "name": "ipython",
    "version": 3
   },
   "file_extension": ".py",
   "mimetype": "text/x-python",
   "name": "python",
   "nbconvert_exporter": "python",
   "pygments_lexer": "ipython3",
   "version": "3.6.3"
  }
 },
 "nbformat": 4,
 "nbformat_minor": 4
}
